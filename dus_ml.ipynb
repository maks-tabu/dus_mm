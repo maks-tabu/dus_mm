{
 "cells": [
  {
   "cell_type": "code",
   "execution_count": null,
   "metadata": {},
   "outputs": [],
   "source": [
    "!conda install tensorflow"
   ]
  },
  {
   "cell_type": "code",
   "execution_count": null,
   "metadata": {
    "scrolled": true
   },
   "outputs": [],
   "source": [
    "pip install tensorflow"
   ]
  },
  {
   "cell_type": "code",
   "execution_count": null,
   "metadata": {
    "colab": {
     "base_uri": "https://localhost:8080/"
    },
    "executionInfo": {
     "elapsed": 28176,
     "status": "ok",
     "timestamp": 1623324354519,
     "user": {
      "displayName": "Maxim Tabolin",
      "photoUrl": "",
      "userId": "11591994697218843812"
     },
     "user_tz": -180
    },
    "id": "b1522c5a",
    "outputId": "5867ca10-9b82-4f28-ba5c-b7f353d2a177"
   },
   "outputs": [],
   "source": [
    "import os\n",
    "# from google.colab import drive\n",
    "# drive.mount('/content/drive')\n",
    "# os.chdir('/content/drive/MyDrive/Github/dus_mm/')\n",
    "from keras.callbacks import ModelCheckpoint\n",
    "from keras.models import Sequential\n",
    "from keras.layers import Dense, Activation, Flatten\n",
    "from sklearn.model_selection import train_test_split\n",
    "from sklearn.ensemble import RandomForestRegressor\n",
    "from sklearn.metrics import mean_absolute_error \n",
    "from xgboost import XGBRegressor\n",
    "import numpy as np\n",
    "import pandas as pd\n",
    "import utils\n",
    "import glob\n",
    "from matplotlib import pyplot as plt\n",
    "import seaborn as sb\n",
    "os.chdir('data')\n",
    "\n",
    "columnsX = ['freq','AX','BX','BY','CY','CX','DX','DY','AY']\n",
    "columnsY = ['AX','BX','BY','CY','CX','DX','DY','AY','AQ','AL','BQ','BL','CQ','CL','DQ','DL']\n",
    "columnsYout = ['AQ','AL','BQ','BL','CQ','CL','DQ','DL','X','Y','Q','L']"
   ]
  },
  {
   "cell_type": "code",
   "execution_count": null,
   "metadata": {
    "colab": {
     "background_save": true
    },
    "id": "6ba09de2",
    "scrolled": true
   },
   "outputs": [],
   "source": [
    "X = pd.DataFrame()\n",
    "y = pd.DataFrame()\n",
    "numb_files = len(glob.glob('data_output*'))\n",
    "for i in glob.glob('data_output*'): \n",
    "    numb = i[11]\n",
    "    if (numb == 'data_output.txt'):\n",
    "        numb = ''\n",
    "    y = pd.concat([y,pd.read_table(os.path.join('data_output%s.txt' % numb), header = 0, names = columnsY, \n",
    "                                   index_col = False, sep='\\s+', engine='python', dtype ='float')], ignore_index = 1)\n",
    "    X = pd.concat([X,pd.read_table(os.path.join('data_input%s.txt' % numb), header = 0, names = columnsX, \n",
    "                                   index_col = False, sep='\\s+', engine='python', dtype =\"float\")], ignore_index = 1)\n",
    "drop_ind = y.loc[(y > 28).any(axis = 1)].index\n",
    "X = utils.init_in(X)\n",
    "y = utils.decomposition(y)\n",
    "\n",
    "drop_ind.append(y.loc[(y == 0).all(axis = 1)].index)\n",
    "X = X.drop(drop_ind).reset_index(drop=True)\n",
    "y = y.drop(drop_ind).reset_index(drop=True)"
   ]
  },
  {
   "cell_type": "code",
   "execution_count": null,
   "metadata": {
    "id": "owS4ghUHPkfb"
   },
   "outputs": [],
   "source": [
    "deltaf = y['X'] + y['Y'] + y['Q'] + y['L']\n",
    "deltaf.name ='deltaf'\n",
    "y  = y.drop(columns = ['X','Y','Q','L'])\n",
    "y = pd.concat([y,deltaf],axis = 1)"
   ]
  },
  {
   "cell_type": "code",
   "execution_count": null,
   "metadata": {
    "id": "fNZq6epQqfqp"
   },
   "outputs": [],
   "source": [
    "ind0 = y['deltaf'][y['deltaf'] == 0].index\n",
    "X = X.drop(ind0).reset_index(drop=True)\n",
    "y = y.drop(ind0).reset_index(drop=True)"
   ]
  },
  {
   "cell_type": "code",
   "execution_count": null,
   "metadata": {
    "id": "9389e7ca"
   },
   "outputs": [],
   "source": [
    "train_examples = pd.concat([X,y],axis = 1)\n",
    "C_mat = train_examples.corr()\n",
    "fig = plt.figure(figsize = (8,8))\n",
    "#X1 = X.drop(columns = ['freq3'])\n",
    "sb.heatmap(C_mat, vmax = .8, square = True)"
   ]
  },
  {
   "cell_type": "code",
   "execution_count": null,
   "metadata": {
    "id": "ee881339"
   },
   "outputs": [],
   "source": [
    "X.hist(figsize = (12,10))\n",
    "plt.show()"
   ]
  },
  {
   "cell_type": "code",
   "execution_count": null,
   "metadata": {
    "colab": {
     "background_save": true
    },
    "id": "yKBoZ3Q9XA44"
   },
   "outputs": [],
   "source": [
    "number_train = round(len(X)*0.95)\n",
    "X_train = X.loc[:number_train]\n",
    "X_test = X.loc[number_train:]\n",
    "X_test = X_test.reset_index(drop=True)\n",
    "\n",
    "y_train = y.loc[:number_train]\n",
    "y_test = y.loc[number_train:]\n",
    "y_test = y_test.reset_index(drop=True)\n",
    "input_layer = X_test.shape[1]\n",
    "hidden_layer = 15\n",
    "output_layer = y.shape[1]"
   ]
  },
  {
   "cell_type": "code",
   "execution_count": null,
   "metadata": {
    "colab": {
     "background_save": true
    },
    "id": "758542e3",
    "scrolled": true
   },
   "outputs": [],
   "source": [
    "NN_model = Sequential()\n",
    "\n",
    "# The Input Layer :\n",
    "NN_model.add(Dense(128, kernel_initializer='normal',input_dim = 18, activation='relu'))\n",
    "\n",
    "# The Hidden Layers :\n",
    "NN_model.add(Dense(256, kernel_initializer='normal',activation='relu'))\n",
    "NN_model.add(Dense(256, kernel_initializer='normal',activation='relu'))\n",
    "NN_model.add(Dense(256, kernel_initializer='normal',activation='relu'))\n",
    "NN_model.add(Dense(256, kernel_initializer='normal',activation='relu'))\n",
    "\n",
    "# The Output Layer :\n",
    "NN_model.add(Dense(12, kernel_initializer='normal',activation='linear'))\n",
    "\n",
    "# Compile the network :\n",
    "NN_model.compile(loss='mean_squared_error', optimizer='nadam', metrics=['mean_squared_error'])\n",
    "NN_model.summary()\n",
    "\n",
    "checkpoint_name = 'Weights-{epoch:03d}--{val_loss:.5f}.hdf5' \n",
    "checkpoint = ModelCheckpoint(checkpoint_name, monitor='val_loss', verbose = 1, save_best_only = True, mode ='auto')\n",
    "callbacks_list = [checkpoint]"
   ]
  },
  {
   "cell_type": "code",
   "execution_count": null,
   "metadata": {
    "colab": {
     "base_uri": "https://localhost:8080/",
     "height": 419
    },
    "executionInfo": {
     "elapsed": 332,
     "status": "ok",
     "timestamp": 1623066179100,
     "user": {
      "displayName": "Maxim Tabolin",
      "photoUrl": "",
      "userId": "11591994697218843812"
     },
     "user_tz": -180
    },
    "id": "tSttrvJER_Mm",
    "outputId": "68109a73-d618-4c9b-8b9c-8642e36a4053"
   },
   "outputs": [],
   "source": [
    "y"
   ]
  },
  {
   "cell_type": "code",
   "execution_count": null,
   "metadata": {
    "id": "sEODZKgWmY_t"
   },
   "outputs": [],
   "source": [
    "NN_model.fit(X_train, y_train, epochs=500, batch_size=32, validation_split = 0.2, callbacks=callbacks_list)"
   ]
  },
  {
   "cell_type": "code",
   "execution_count": null,
   "metadata": {
    "id": "7f7f191d"
   },
   "outputs": [],
   "source": [
    "wights_file = 'Weights-466--0.88581.hdf5'\n",
    "NN_model.load_weights(wights_file) # load it\n",
    "NN_model.compile(loss='mean_squared_error', optimizer='nadam', metrics=['mean_squared_error'])"
   ]
  },
  {
   "cell_type": "code",
   "execution_count": null,
   "metadata": {
    "id": "lXKy97mTfTvJ"
   },
   "outputs": [],
   "source": [
    "predictions = NN_model.predict(X_test)\n",
    "yy = pd.DataFrame(np.round(predictions), columns = y_test.columns)"
   ]
  },
  {
   "cell_type": "code",
   "execution_count": null,
   "metadata": {
    "colab": {
     "base_uri": "https://localhost:8080/",
     "height": 419
    },
    "executionInfo": {
     "elapsed": 233,
     "status": "ok",
     "timestamp": 1622718030176,
     "user": {
      "displayName": "Maxim Tabolin",
      "photoUrl": "",
      "userId": "11591994697218843812"
     },
     "user_tz": -180
    },
    "id": "J0P1GIwfh9UC",
    "outputId": "eb155ead-b4a6-4f69-9ff3-db5dfb5a89ca"
   },
   "outputs": [],
   "source": [
    "y_test"
   ]
  },
  {
   "cell_type": "code",
   "execution_count": null,
   "metadata": {
    "colab": {
     "base_uri": "https://localhost:8080/",
     "height": 419
    },
    "executionInfo": {
     "elapsed": 431,
     "status": "ok",
     "timestamp": 1623152455678,
     "user": {
      "displayName": "Maxim Tabolin",
      "photoUrl": "",
      "userId": "11591994697218843812"
     },
     "user_tz": -180
    },
    "id": "IIBDTUVijgB4",
    "outputId": "53afddd4-ed92-4fe4-aafa-03b547dc40c5"
   },
   "outputs": [],
   "source": [
    "yy - y_test"
   ]
  },
  {
   "cell_type": "code",
   "execution_count": null,
   "metadata": {
    "colab": {
     "base_uri": "https://localhost:8080/",
     "height": 424
    },
    "executionInfo": {
     "elapsed": 338,
     "status": "ok",
     "timestamp": 1622616511248,
     "user": {
      "displayName": "Maxim Tabolin",
      "photoUrl": "",
      "userId": "11591994697218843812"
     },
     "user_tz": -180
    },
    "id": "4jiYiiNjpafU",
    "outputId": "0a5c6457-0cdc-4cf0-88b9-cc53cba6429c"
   },
   "outputs": [],
   "source": [
    "yy - y_test"
   ]
  },
  {
   "cell_type": "code",
   "execution_count": null,
   "metadata": {
    "colab": {
     "base_uri": "https://localhost:8080/",
     "height": 419
    },
    "executionInfo": {
     "elapsed": 326,
     "status": "ok",
     "timestamp": 1622635851188,
     "user": {
      "displayName": "Maxim Tabolin",
      "photoUrl": "",
      "userId": "11591994697218843812"
     },
     "user_tz": -180
    },
    "id": "CYy9x0VlT045",
    "outputId": "477cc303-4306-4338-81c4-91772921d9f5"
   },
   "outputs": [],
   "source": [
    "yy - y_test"
   ]
  },
  {
   "cell_type": "code",
   "execution_count": null,
   "metadata": {
    "id": "B6vTzR-Ebkg6"
   },
   "outputs": [],
   "source": [
    "os.chdir('/content/drive/MyDrive/Github/dus_mm/data/')\n",
    "XX = pd.read_table(os.path.join('data.txt'), header = 0, names = columnsX, index_col = False, sep='\\s+', engine='python', dtype =\"float\")\n",
    "XX = utils.init_in(XX)\n",
    "predictions = NN_model.predict(XX)\n",
    "yy = np.abs(pd.DataFrame(predictions.astype('float'), columns = columnsYout))\n",
    "#yy = utils.integration(yy,0.72*1.33,1.33) # перемычки 30 мкм вместо 40 мкм 1.33"
   ]
  },
  {
   "cell_type": "code",
   "execution_count": null,
   "metadata": {
    "id": "Rd5qwGEDl7oJ"
   },
   "outputs": [],
   "source": [
    "yy = np.abs(pd.DataFrame(np.round(predictions,0), columns = columnsYout))"
   ]
  },
  {
   "cell_type": "code",
   "execution_count": null,
   "metadata": {
    "id": "2qE94iyaoxYS"
   },
   "outputs": [],
   "source": [
    "yy = utils.decomposition(yy)"
   ]
  },
  {
   "cell_type": "code",
   "execution_count": null,
   "metadata": {
    "colab": {
     "base_uri": "https://localhost:8080/",
     "height": 111
    },
    "executionInfo": {
     "elapsed": 988,
     "status": "ok",
     "timestamp": 1623068500680,
     "user": {
      "displayName": "Maxim Tabolin",
      "photoUrl": "",
      "userId": "11591994697218843812"
     },
     "user_tz": -180
    },
    "id": "PFxUht9urBo3",
    "outputId": "d91d6c6b-251d-4d5a-aaba-e88ebccaef20"
   },
   "outputs": [],
   "source": [
    "XX"
   ]
  },
  {
   "cell_type": "code",
   "execution_count": null,
   "metadata": {
    "colab": {
     "base_uri": "https://localhost:8080/",
     "height": 111
    },
    "executionInfo": {
     "elapsed": 229,
     "status": "ok",
     "timestamp": 1622720370594,
     "user": {
      "displayName": "Maxim Tabolin",
      "photoUrl": "",
      "userId": "11591994697218843812"
     },
     "user_tz": -180
    },
    "id": "PIor-EH71dak",
    "outputId": "eb91b1c0-fe17-4ffd-c612-9098a8f23090"
   },
   "outputs": [],
   "source": [
    "XX"
   ]
  },
  {
   "cell_type": "code",
   "execution_count": null,
   "metadata": {
    "colab": {
     "base_uri": "https://localhost:8080/",
     "height": 80
    },
    "executionInfo": {
     "elapsed": 342,
     "status": "ok",
     "timestamp": 1623152518230,
     "user": {
      "displayName": "Maxim Tabolin",
      "photoUrl": "",
      "userId": "11591994697218843812"
     },
     "user_tz": -180
    },
    "id": "O57r3kR81QNn",
    "outputId": "578b9265-c4e0-4fbb-840b-b541a217a49a"
   },
   "outputs": [],
   "source": [
    "np.round(0.72*yy*1.33)"
   ]
  },
  {
   "cell_type": "code",
   "execution_count": null,
   "metadata": {
    "colab": {
     "base_uri": "https://localhost:8080/",
     "height": 80
    },
    "executionInfo": {
     "elapsed": 327,
     "status": "ok",
     "timestamp": 1623152472080,
     "user": {
      "displayName": "Maxim Tabolin",
      "photoUrl": "",
      "userId": "11591994697218843812"
     },
     "user_tz": -180
    },
    "id": "ti8Qs-3vrMo0",
    "outputId": "e1391926-b9e0-4ef6-e6ec-c03658c922d8"
   },
   "outputs": [],
   "source": [
    "np.round(yy*1.33)"
   ]
  },
  {
   "cell_type": "code",
   "execution_count": null,
   "metadata": {
    "colab": {
     "base_uri": "https://localhost:8080/",
     "height": 80
    },
    "executionInfo": {
     "elapsed": 319,
     "status": "ok",
     "timestamp": 1622721188171,
     "user": {
      "displayName": "Maxim Tabolin",
      "photoUrl": "",
      "userId": "11591994697218843812"
     },
     "user_tz": -180
    },
    "id": "OtI7SIGAhuUh",
    "outputId": "fdacbf38-be50-4df9-8e84-163135d79a7c"
   },
   "outputs": [],
   "source": [
    "np.round(yy)"
   ]
  },
  {
   "cell_type": "code",
   "execution_count": null,
   "metadata": {
    "colab": {
     "base_uri": "https://localhost:8080/",
     "height": 80
    },
    "executionInfo": {
     "elapsed": 286,
     "status": "ok",
     "timestamp": 1622636534729,
     "user": {
      "displayName": "Maxim Tabolin",
      "photoUrl": "",
      "userId": "11591994697218843812"
     },
     "user_tz": -180
    },
    "id": "Ehb6aBGMbiwp",
    "outputId": "61278c1a-fbc9-4273-fc1e-c40d980e571b"
   },
   "outputs": [],
   "source": [
    "np.round(yy)"
   ]
  },
  {
   "cell_type": "code",
   "execution_count": null,
   "metadata": {
    "colab": {
     "base_uri": "https://localhost:8080/"
    },
    "executionInfo": {
     "elapsed": 1796,
     "status": "ok",
     "timestamp": 1622549280689,
     "user": {
      "displayName": "Maxim Tabolin",
      "photoUrl": "",
      "userId": "11591994697218843812"
     },
     "user_tz": -180
    },
    "id": "Sa0SNKj4f7mw",
    "outputId": "6db2fc01-d65e-453a-88c8-9a0d27fef063"
   },
   "outputs": [],
   "source": [
    "yy.round()"
   ]
  },
  {
   "cell_type": "code",
   "execution_count": null,
   "metadata": {
    "id": "oIgzM8uCgnAR"
   },
   "outputs": [],
   "source": [
    "yy.iloc[:,:8] = 2*yy.iloc[:,:8]"
   ]
  },
  {
   "cell_type": "code",
   "execution_count": null,
   "metadata": {
    "id": "_jVwaW8HdH0h"
   },
   "outputs": [],
   "source": [
    "yy.round(2)"
   ]
  },
  {
   "cell_type": "code",
   "execution_count": null,
   "metadata": {
    "id": "Tk4j5ZkOMoxi"
   },
   "outputs": [],
   "source": [
    "yy = utils.integration(np.round(yy))"
   ]
  },
  {
   "cell_type": "code",
   "execution_count": null,
   "metadata": {
    "id": "faoR1nFsMcY6"
   },
   "outputs": [],
   "source": []
  },
  {
   "cell_type": "code",
   "execution_count": null,
   "metadata": {
    "id": "V0hJ29wPnzIL"
   },
   "outputs": [],
   "source": [
    "yyy = [8,2,2,20,21,13,5,13,7,4,1,9,8,22,13,17]\n",
    "yyy = pd.DataFrame([yyy], columns = columnsY,  dtype =\"float\")\n",
    "yyy = utils.decomposition(yyy)\n",
    "yyy = utils.integration(yyy)"
   ]
  },
  {
   "cell_type": "code",
   "execution_count": null,
   "metadata": {
    "id": "Ao0AwDjGp-Iq"
   },
   "outputs": [],
   "source": [
    "yy"
   ]
  },
  {
   "cell_type": "code",
   "execution_count": null,
   "metadata": {
    "id": "YXiOiivHeA_2"
   },
   "outputs": [],
   "source": [
    "yy = np.abs(pd.DataFrame(np.round(predictions,1), columns = columnsYout))"
   ]
  },
  {
   "cell_type": "code",
   "execution_count": null,
   "metadata": {
    "id": "L5RQSqWVDFGe"
   },
   "outputs": [],
   "source": [
    "yy = utils.integration(predictions, 0.73)"
   ]
  },
  {
   "cell_type": "code",
   "execution_count": null,
   "metadata": {
    "id": "zFXxExiUi3st"
   },
   "outputs": [],
   "source": [
    "train_X, val_X, train_y, val_y = train_test_split(X_train, y_train, test_size = 0.25, random_state = 14)"
   ]
  },
  {
   "cell_type": "code",
   "execution_count": null,
   "metadata": {
    "id": "A4S6JIzZux-3"
   },
   "outputs": [],
   "source": [
    "model = RandomForestRegressor()\n",
    "model.fit(train_X,train_y)\n",
    "\n",
    "# Get the mean absolute error on the validation data\n",
    "predicted = model.predict(val_X)\n",
    "MAE = mean_absolute_error(val_y , predicted)\n",
    "print('Random forest validation MAE = ', MAE)"
   ]
  },
  {
   "cell_type": "code",
   "execution_count": null,
   "metadata": {
    "id": "bBo2oUpe8t9b"
   },
   "outputs": [],
   "source": [
    "help(XGBRegressor)"
   ]
  },
  {
   "cell_type": "code",
   "execution_count": null,
   "metadata": {
    "id": "TKZ7QXM3u6c2"
   },
   "outputs": [],
   "source": [
    "XGBModel = XGBRegressor()\n",
    "XGBModel.fit(train_X,train_y , verbose=False)\n",
    "\n",
    "# Get the mean absolute error on the validation data :\n",
    "XGBpredictions = XGBModel.predict(val_X)\n",
    "MAE = mean_absolute_error(val_y , XGBpredictions)\n",
    "print('XGBoost validation MAE = ',MAE)"
   ]
  },
  {
   "cell_type": "code",
   "execution_count": null,
   "metadata": {
    "colab": {
     "base_uri": "https://localhost:8080/"
    },
    "executionInfo": {
     "elapsed": 9383,
     "status": "ok",
     "timestamp": 1622485291950,
     "user": {
      "displayName": "Maxim Tabolin",
      "photoUrl": "",
      "userId": "11591994697218843812"
     },
     "user_tz": -180
    },
    "id": "lsOTRcSIok8_",
    "outputId": "b69bdc97-8d4e-42c7-df07-4eddf3a8bc5d"
   },
   "outputs": [],
   "source": [
    "from sklearn.datasets import make_regression\n",
    "from sklearn.multioutput import MultiOutputRegressor\n",
    "from sklearn.ensemble import GradientBoostingRegressor\n",
    "#X, y = make_regression(n_samples=10, n_targets=3, random_state=1)\n",
    "MultiOutputRegressor(GradientBoostingRegressor(random_state=0)).fit(X_train, y_train).predict(X_test)"
   ]
  },
  {
   "cell_type": "code",
   "execution_count": null,
   "metadata": {
    "id": "DBrXh5vTotPh"
   },
   "outputs": [],
   "source": [
    "yy = pd.DataFrame(np.round(_),columns = y_test.columns)"
   ]
  },
  {
   "cell_type": "code",
   "execution_count": null,
   "metadata": {
    "colab": {
     "base_uri": "https://localhost:8080/",
     "height": 424
    },
    "executionInfo": {
     "elapsed": 294,
     "status": "ok",
     "timestamp": 1622485304412,
     "user": {
      "displayName": "Maxim Tabolin",
      "photoUrl": "",
      "userId": "11591994697218843812"
     },
     "user_tz": -180
    },
    "id": "6Zht6w8Ip7OC",
    "outputId": "8da9e9e0-6b1a-46cf-ca34-5a7889ab5415"
   },
   "outputs": [],
   "source": [
    "y_test"
   ]
  },
  {
   "cell_type": "code",
   "execution_count": null,
   "metadata": {
    "colab": {
     "base_uri": "https://localhost:8080/",
     "height": 424
    },
    "executionInfo": {
     "elapsed": 296,
     "status": "ok",
     "timestamp": 1622485307222,
     "user": {
      "displayName": "Maxim Tabolin",
      "photoUrl": "",
      "userId": "11591994697218843812"
     },
     "user_tz": -180
    },
    "id": "CzL7_7Epp4YG",
    "outputId": "6e625e6d-a93a-441f-f7f4-94e8c6b8fe09"
   },
   "outputs": [],
   "source": [
    "yy"
   ]
  },
  {
   "cell_type": "code",
   "execution_count": null,
   "metadata": {
    "colab": {
     "base_uri": "https://localhost:8080/",
     "height": 424
    },
    "executionInfo": {
     "elapsed": 306,
     "status": "ok",
     "timestamp": 1622485315531,
     "user": {
      "displayName": "Maxim Tabolin",
      "photoUrl": "",
      "userId": "11591994697218843812"
     },
     "user_tz": -180
    },
    "id": "IZRIIqZ8pVsr",
    "outputId": "70818fc4-0b2e-4022-b1c1-76873507a12e"
   },
   "outputs": [],
   "source": [
    "y_test - yy"
   ]
  },
  {
   "cell_type": "code",
   "execution_count": null,
   "metadata": {
    "id": "5gZTsbvOptzW"
   },
   "outputs": [],
   "source": []
  }
 ],
 "metadata": {
  "colab": {
   "name": "dus_ml.ipynb",
   "version": ""
  },
  "kernelspec": {
   "display_name": "Python 3",
   "language": "python",
   "name": "python3"
  },
  "language_info": {
   "codemirror_mode": {
    "name": "ipython",
    "version": 3
   },
   "file_extension": ".py",
   "mimetype": "text/x-python",
   "name": "python",
   "nbconvert_exporter": "python",
   "pygments_lexer": "ipython3",
   "version": "3.8.5"
  }
 },
 "nbformat": 4,
 "nbformat_minor": 5
}
