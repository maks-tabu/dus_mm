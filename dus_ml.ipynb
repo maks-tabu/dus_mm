{
 "cells": [
  {
   "cell_type": "code",
   "execution_count": 1,
   "id": "8ecddb02",
   "metadata": {},
   "outputs": [],
   "source": [
    "import os\n",
    "import numpy as np\n",
    "import pandas as pd"
   ]
  },
  {
   "cell_type": "code",
   "execution_count": null,
   "id": "18845553",
   "metadata": {},
   "outputs": [],
   "source": [
    "y = pd.read_table(os.path.join('data', 'data_output.txt'),sep='\\s+', engine='python', dtype ='Int64')\n",
    "X = pd.read_table(os.path.join('data', 'data_input.txt'),sep='\\s+', engine='python', dtype =\"Float64\")"
   ]
  },
  {
   "cell_type": "code",
   "execution_count": null,
   "id": "fa0dab32",
   "metadata": {},
   "outputs": [],
   "source": [
    "ind1_list = []\n",
    "ind2_list = []\n",
    "for i in range(X.shape[0]):\n",
    "    ind1_list.append(i//4) \n",
    "    ind2_list.append(i%4+1)\n",
    "mInd = pd.MultiIndex.from_arrays([ind1_list, ind2_list], names=('number', 'mode'))\n",
    "X.index = mInd"
   ]
  },
  {
   "cell_type": "code",
   "execution_count": null,
   "id": "c2123e58",
   "metadata": {},
   "outputs": [],
   "source": [
    "X = np.abs(X.copy())\n",
    "n1 = X.columns[1:9:2]\n",
    "n2 = X.columns[2:9:2]\n",
    "formula = n1 + n2 + ' = (' + n1 + ' + ' + n2 + ')/2'"
   ]
  },
  {
   "cell_type": "code",
   "execution_count": null,
   "id": "78e866fd",
   "metadata": {},
   "outputs": [],
   "source": [
    "def norm_frez(x):\n",
    "    #x['frez'].iloc[3] = x['frez'].iloc[3] - 14.7  \n",
    "    f_deltamin = x['frez'] - np.min(x['frez'])\n",
    "    f_norm = f_deltamin/np.max(f_deltamin)\n",
    "    x['frez'] = f_norm.round(3)\n",
    "    return x  "
   ]
  },
  {
   "cell_type": "code",
   "execution_count": null,
   "id": "90a2c5a6",
   "metadata": {},
   "outputs": [],
   "source": [
    "X = X.groupby(level = 'number').apply(norm_frez)"
   ]
  },
  {
   "cell_type": "code",
   "execution_count": null,
   "id": "6a805c56",
   "metadata": {},
   "outputs": [],
   "source": [
    "for i in range(4): X = X.eval(formula[i]).drop(columns = [n1[i],n2[i]]) \n",
    "X_frez = X.pop('frez')\n",
    "maxval = np.max(X, axis = 1)\n",
    "X = X.divide(maxval, axis = 0, level=1)\n",
    "X = X.round(3)\n",
    "X.insert(0,'frez', X_frez)"
   ]
  },
  {
   "cell_type": "code",
   "execution_count": null,
   "id": "2ddbdb34",
   "metadata": {},
   "outputs": [],
   "source": [
    "ind = []\n",
    "for i in range(X.index[-1][0]):\n",
    "    Xstart = X.loc[i].drop(columns = 'frez')\n",
    "    for j in (range((i + 1),X.index[-1][0])):\n",
    "        Xnext = X.loc[j].drop(columns = 'frez')\n",
    "        if (np.mean(np.abs(Xnext - Xstart), axis = 1) < 0.05).all():\n",
    "            ind.append([i,j])  "
   ]
  }
 ],
 "metadata": {
  "kernelspec": {
   "display_name": "Python 3",
   "language": "python",
   "name": "python3"
  },
  "language_info": {
   "codemirror_mode": {
    "name": "ipython",
    "version": 3
   },
   "file_extension": ".py",
   "mimetype": "text/x-python",
   "name": "python",
   "nbconvert_exporter": "python",
   "pygments_lexer": "ipython3",
   "version": "3.8.5"
  }
 },
 "nbformat": 4,
 "nbformat_minor": 5
}
