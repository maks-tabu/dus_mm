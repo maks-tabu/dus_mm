{
 "cells": [
  {
   "cell_type": "code",
   "execution_count": 19,
   "metadata": {},
   "outputs": [
    {
     "name": "stdout",
     "output_type": "stream",
     "text": [
      "Note: you may need to restart the kernel to use updated packages.Collecting tensorflow\n",
      "  Downloading tensorflow-2.5.0-cp38-cp38-win_amd64.whl (422.6 MB)\n",
      "\n"
     ]
    },
    {
     "name": "stderr",
     "output_type": "stream",
     "text": [
      "ERROR: Exception:\n",
      "Traceback (most recent call last):\n",
      "  File \"C:\\Users\\MAXPC\\anaconda3\\lib\\site-packages\\pip\\_vendor\\urllib3\\response.py\", line 437, in _error_catcher\n",
      "    yield\n",
      "  File \"C:\\Users\\MAXPC\\anaconda3\\lib\\site-packages\\pip\\_vendor\\urllib3\\response.py\", line 519, in read\n",
      "    data = self._fp.read(amt) if not fp_closed else b\"\"\n",
      "  File \"C:\\Users\\MAXPC\\anaconda3\\lib\\site-packages\\pip\\_vendor\\cachecontrol\\filewrapper.py\", line 62, in read\n",
      "    data = self.__fp.read(amt)\n",
      "  File \"C:\\Users\\MAXPC\\anaconda3\\lib\\http\\client.py\", line 458, in read\n",
      "    n = self.readinto(b)\n",
      "  File \"C:\\Users\\MAXPC\\anaconda3\\lib\\http\\client.py\", line 502, in readinto\n",
      "    n = self.fp.readinto(b)\n",
      "  File \"C:\\Users\\MAXPC\\anaconda3\\lib\\socket.py\", line 669, in readinto\n",
      "    return self._sock.recv_into(b)\n",
      "  File \"C:\\Users\\MAXPC\\anaconda3\\lib\\ssl.py\", line 1241, in recv_into\n",
      "    return self.read(nbytes, buffer)\n",
      "  File \"C:\\Users\\MAXPC\\anaconda3\\lib\\ssl.py\", line 1099, in read\n",
      "    return self._sslobj.read(len, buffer)\n",
      "socket.timeout: The read operation timed out\n",
      "\n",
      "During handling of the above exception, another exception occurred:\n",
      "\n",
      "Traceback (most recent call last):\n",
      "  File \"C:\\Users\\MAXPC\\anaconda3\\lib\\site-packages\\pip\\_internal\\cli\\base_command.py\", line 228, in _main\n",
      "    status = self.run(options, args)\n",
      "  File \"C:\\Users\\MAXPC\\anaconda3\\lib\\site-packages\\pip\\_internal\\cli\\req_command.py\", line 182, in wrapper\n",
      "    return func(self, options, args)\n",
      "  File \"C:\\Users\\MAXPC\\anaconda3\\lib\\site-packages\\pip\\_internal\\commands\\install.py\", line 323, in run\n",
      "    requirement_set = resolver.resolve(\n",
      "  File \"C:\\Users\\MAXPC\\anaconda3\\lib\\site-packages\\pip\\_internal\\resolution\\legacy\\resolver.py\", line 183, in resolve\n",
      "    discovered_reqs.extend(self._resolve_one(requirement_set, req))\n",
      "  File \"C:\\Users\\MAXPC\\anaconda3\\lib\\site-packages\\pip\\_internal\\resolution\\legacy\\resolver.py\", line 388, in _resolve_one\n",
      "    abstract_dist = self._get_abstract_dist_for(req_to_install)\n",
      "  File \"C:\\Users\\MAXPC\\anaconda3\\lib\\site-packages\\pip\\_internal\\resolution\\legacy\\resolver.py\", line 340, in _get_abstract_dist_for\n",
      "    abstract_dist = self.preparer.prepare_linked_requirement(req)\n",
      "  File \"C:\\Users\\MAXPC\\anaconda3\\lib\\site-packages\\pip\\_internal\\operations\\prepare.py\", line 467, in prepare_linked_requirement\n",
      "    local_file = unpack_url(\n",
      "  File \"C:\\Users\\MAXPC\\anaconda3\\lib\\site-packages\\pip\\_internal\\operations\\prepare.py\", line 255, in unpack_url\n",
      "    file = get_http_url(\n",
      "  File \"C:\\Users\\MAXPC\\anaconda3\\lib\\site-packages\\pip\\_internal\\operations\\prepare.py\", line 129, in get_http_url\n",
      "    from_path, content_type = _download_http_url(\n",
      "  File \"C:\\Users\\MAXPC\\anaconda3\\lib\\site-packages\\pip\\_internal\\operations\\prepare.py\", line 282, in _download_http_url\n",
      "    for chunk in download.chunks:\n",
      "  File \"C:\\Users\\MAXPC\\anaconda3\\lib\\site-packages\\pip\\_internal\\cli\\progress_bars.py\", line 168, in iter\n",
      "    for x in it:\n",
      "  File \"C:\\Users\\MAXPC\\anaconda3\\lib\\site-packages\\pip\\_internal\\network\\utils.py\", line 64, in response_chunks\n",
      "    for chunk in response.raw.stream(\n",
      "  File \"C:\\Users\\MAXPC\\anaconda3\\lib\\site-packages\\pip\\_vendor\\urllib3\\response.py\", line 576, in stream\n",
      "    data = self.read(amt=amt, decode_content=decode_content)\n",
      "  File \"C:\\Users\\MAXPC\\anaconda3\\lib\\site-packages\\pip\\_vendor\\urllib3\\response.py\", line 541, in read\n",
      "    raise IncompleteRead(self._fp_bytes_read, self.length_remaining)\n",
      "  File \"C:\\Users\\MAXPC\\anaconda3\\lib\\contextlib.py\", line 131, in __exit__\n",
      "    self.gen.throw(type, value, traceback)\n",
      "  File \"C:\\Users\\MAXPC\\anaconda3\\lib\\site-packages\\pip\\_vendor\\urllib3\\response.py\", line 442, in _error_catcher\n",
      "    raise ReadTimeoutError(self._pool, None, \"Read timed out.\")\n",
      "pip._vendor.urllib3.exceptions.ReadTimeoutError: HTTPSConnectionPool(host='files.pythonhosted.org', port=443): Read timed out.\n"
     ]
    }
   ],
   "source": [
    "pip install tensorflow"
   ]
  },
  {
   "cell_type": "code",
   "execution_count": 16,
   "metadata": {
    "scrolled": false
   },
   "outputs": [
    {
     "name": "stdout",
     "output_type": "stream",
     "text": [
      "Note: you may need to restart the kernel to use updated packages.\n"
     ]
    },
    {
     "name": "stderr",
     "output_type": "stream",
     "text": [
      "ERROR: You must give at least one requirement to install (see \"pip help install\")\n"
     ]
    }
   ],
   "source": [
    "pip install "
   ]
  },
  {
   "cell_type": "code",
   "execution_count": 3,
   "metadata": {
    "colab": {
     "background_save": true
    },
    "id": "91e9605d"
   },
   "outputs": [],
   "source": [
    "import os\n",
    "#from google.colab import drive\n",
    "#drive.mount('/content/drive')\n",
    "#os.chdir('/content/drive/MyDrive/Github/dus_mm/')\n",
    "import numpy as np\n",
    "import pandas as pd\n",
    "import utils\n",
    "import glob\n",
    "\n",
    "from matplotlib import pyplot as plt\n",
    "import seaborn as sb\n",
    "os.chdir('data')\n",
    "\n",
    "columnsX = ['freq','AX','BX','BY','CY','CX','DX','DY','AY']\n",
    "columnsY = ['AX','BX','BY','CY','CX','DX','DY','AY','AQ','AL','BQ','BL','CQ','CL','DQ','DL']\n",
    "columnsYout = ['AQ','AL','BQ','BL','CQ','CL','DQ','DL','X','Y','Q','L']"
   ]
  },
  {
   "cell_type": "code",
   "execution_count": 4,
   "metadata": {
    "colab": {
     "background_save": true
    },
    "id": "1a3f18f9"
   },
   "outputs": [],
   "source": [
    "X = pd.DataFrame()\n",
    "y = pd.DataFrame()\n",
    "numb_files = len(glob.glob('data_output*'))\n",
    "for i in glob.glob('data_output*'): \n",
    "    numb = i[11]\n",
    "    if (numb == 'data_output.txt'):\n",
    "        numb = ''\n",
    "    y = pd.concat([y,pd.read_table(os.path.join('data_output%s.txt' % numb), header = 0, names = columnsY, \n",
    "                                   index_col = False, sep='\\s+', engine='python', dtype ='float64')], ignore_index = 1)\n",
    "    X = pd.concat([X,pd.read_table(os.path.join('data_input%s.txt' % numb), header = 0, names = columnsX, \n",
    "                                   index_col = False, sep='\\s+', engine='python', dtype ='float64')], ignore_index = 1)\n",
    "#X = X.loc[:1000*4+3]\n",
    "#y = y.loc[:1000]\n",
    "\n",
    "X = utils.init_in(X)\n",
    "y = utils.decomposition(y)"
   ]
  },
  {
   "cell_type": "code",
   "execution_count": 11,
   "metadata": {
    "colab": {
     "background_save": true
    },
    "id": "63666d57"
   },
   "outputs": [],
   "source": [
    "class Layer():\n",
    "    def __init__(self, neurons: int = 256, activation: str = 'linear'):\n",
    "        self.neurons = neurons\n",
    "        self.activation = activation\n"
   ]
  },
  {
   "cell_type": "code",
   "execution_count": 12,
   "metadata": {
    "executionInfo": {
     "elapsed": 553,
     "status": "ok",
     "timestamp": 1624464847208,
     "user": {
      "displayName": "Maxim Tabolin",
      "photoUrl": "",
      "userId": "11591994697218843812"
     },
     "user_tz": -180
    },
    "id": "5e26a390"
   },
   "outputs": [],
   "source": [
    "class NN_model():\n",
    "  \n",
    "    def __init__(self, input_dimension: int, loss = 'mean_squared_error'):\n",
    "        self.sequential = [Layer(input_dimension)]\n",
    "        self.theta = np.array([])\n",
    "        self.loss = loss\n",
    "        self.optimizer = 'gradient_descent' #'adam'\n",
    "        self.max_epoch = 100\n",
    "        self.chunk_size = 1000\n",
    "        self.beta_1 = 0.9\n",
    "        self.beta_2 = 0.99\n",
    "        self.epsilon = 1e-8\n",
    "        self.learning_rate = 0.1\n",
    "        self.regularization = None #'l2'\n",
    "\n",
    "    def add(self, layer: Layer):\n",
    "        self.sequential.append(layer)\n",
    "        layer_in = self.sequential[-2]\n",
    "        layer_out = self.sequential[-1]\n",
    "        gamma = np.sqrt(6)/np.sqrt(layer_in.neurons + layer_out.neurons)\n",
    "        np.random.seed(0)\n",
    "        init_theta = np.random.rand(layer_out.neurons,layer_in.neurons + 1) * 2 * gamma - gamma\n",
    "        self.theta = np.hstack([self.theta, init_theta.ravel()])\n",
    "\n",
    "\n",
    "    def activation(self, layer: Layer, x, diff: bool = False):\n",
    "        if (layer.activation == 'relu'):\n",
    "            if (diff == True):\n",
    "                x[x >= 0] = 1\n",
    "                x[x < 0] = 0\n",
    "            else:\n",
    "                x[x < 0] = 0\n",
    "        elif (layer.activation == 'linear'):\n",
    "            if (diff == True):\n",
    "                x = 1\n",
    "            else:\n",
    "                x = x\n",
    "        elif (layer.activation == 'sigmoid'):\n",
    "            if (diff == True):\n",
    "                x = self.activation(layer, x) * (1 - self.activation(layer, x))\n",
    "            else:\n",
    "                x = 1/(1 + np.exp(-x))\n",
    "        return x\n",
    "\n",
    "    def feedforward(self, x, theta_new = None):\n",
    "        if (theta_new is None):\n",
    "            theta_new = self.theta\n",
    "        a = x\n",
    "        a_out = np.array(a.ravel())\n",
    "        slice_theta1 = 0\n",
    "        for i in range(1, len(self.sequential)):\n",
    "            layer1 = self.sequential[i - 1]\n",
    "            layer2 = self.sequential[i]\n",
    "            slice_theta2 = slice_theta1 + (layer1.neurons + 1) * layer2.neurons\n",
    "            \n",
    "            theta1 = theta_new[slice_theta1:slice_theta2].reshape(layer2.neurons, layer1.neurons + 1)\n",
    "            z = np.dot(np.concatenate((np.ones([a.shape[0],1]), a), axis = 1), theta1.T)\n",
    "            a = self.activation(layer2, z)\n",
    "            a_out = np.hstack([a.ravel(), a_out])\n",
    "            slice_theta1 = slice_theta2\n",
    "        return a_out\n",
    "\n",
    "    def backprop(self, a_out, y, theta_new = None):\n",
    "        if (theta_new is None):\n",
    "            theta_new = self.theta\n",
    "        grad = np.array([])\n",
    "        slice_theta1 = 0\n",
    "        slice_a1 = 0\n",
    "        for i in range(1, len(self.sequential)):\n",
    "            layer1 = self.sequential[-i]\n",
    "            layer2 = self.sequential[-(i + 1)]\n",
    "            slice_theta2 = slice_theta1 + layer1.neurons * (layer2.neurons + 1)\n",
    "            slice_a2 = slice_a1 + layer1.neurons * y.shape[0]\n",
    "            slice_a3 = slice_a2 + layer2.neurons * y.shape[0]           \n",
    "            a1 = a_out[slice_a1:slice_a2].reshape((y.shape[0], layer1.neurons))\n",
    "            a2 = a_out[slice_a2:slice_a3].reshape((y.shape[0], layer2.neurons))\n",
    "            a2 = np.concatenate((np.ones([a2.shape[0], 1]), a2), axis = 1)\n",
    "            theta2 = np.flip(theta_new)[slice_theta1:slice_theta2].reshape(layer1.neurons, layer2.neurons + 1)\n",
    "            theta2 = np.flip(theta2)\n",
    "            if (i == 1):\n",
    "                delta = self.compute_loss(a_out, y, diff = True) * self.activation(layer1, np.dot(a2, theta2.T), diff = True)\n",
    "            else:\n",
    "                delta = np.dot(delta, theta1[:,1:]) * self.activation(layer1, np.dot(a2, theta2.T), diff = True)  \n",
    "            grad = np.hstack([np.dot(delta.T, a2).ravel(), grad])\n",
    "            \n",
    "            theta1 = theta2  \n",
    "            slice_theta1 = slice_theta2\n",
    "            slice_a1 = slice_a2\n",
    "        grad = (1 / y.shape[0]) * grad\n",
    "        return grad\n",
    "\n",
    "    def nulling(self, theta_new2 = None):\n",
    "        if (theta_new2 is None):\n",
    "            theta_new2 = self.theta.copy()\n",
    "        slice_theta1 = 0\n",
    "        for i in range(1, len(self.sequential)):\n",
    "            layer1 = self.sequential[i - 1]\n",
    "            layer2 = self.sequential[i]\n",
    "            slice_theta2 = slice_theta1 + (layer1.neurons + 1) * layer2.neurons\n",
    "            theta_new2[slice_theta1:slice_theta2:layer1.neurons] = 0\n",
    "            slice_theta1 = slice_theta2\n",
    "        return theta_new2\n",
    "          \n",
    "\n",
    "    def compute_loss(self, a_out, y, theta_new = None,  diff: bool = False):\n",
    "        if (theta_new is None):\n",
    "            theta_new = self.theta.copy()\n",
    "        a_end = a_out[:(self.sequential[-1].neurons * y.shape[0])]\n",
    "        a_end = a_end.reshape((y.shape[0], self.sequential[-1].neurons))\n",
    "        if (self.loss == 'mean_squared_error'):\n",
    "            if (diff == True):\n",
    "                loss = (a_end - y)\n",
    "            else:\n",
    "                loss = np.sum(np.power((a_end - y), 2)) / (2 * y.shape[0])\n",
    "        elif (self.loss == 'loglos'):\n",
    "            if (diff == True):\n",
    "                loss = (a_end - y)/((1 - a_end) * a_end)\n",
    "            else:\n",
    "                loss = - np.sum(y * np.log(a_end) + (1 - y) * np.log(1 - a_end))/y.shape[0]     \n",
    "        return loss\n",
    "    \n",
    "    def form_output(self, X, y):\n",
    "        a_out = self.feedforward(X_train)\n",
    "        a_end = a_out[:(self.sequential[-1].neurons * y.shape[0])]\n",
    "        return a_end\n",
    "\n",
    "    def gradient_checking(self, x, y, e = 1e-4):\n",
    "        numgrad = np.zeros(self.theta.shape)\n",
    "        perturb = np.diag(e * np.ones(self.theta.shape))\n",
    "        for i in range(self.theta.size):\n",
    "            theta_plus = self.theta + perturb[:,i]\n",
    "            theta_minus = self.theta - perturb[:,i]\n",
    "            a_out_plus  = self.feedforward(x, theta_plus)\n",
    "            a_out_minus = self.feedforward(x, theta_minus)\n",
    "            numgrad[i] = (self.compute_loss(a_out_plus, y, theta_plus) - self.compute_loss(a_out_minus, y, theta_minus))/(2 * e)\n",
    "        a_out = self.feedforward(x)\n",
    "        grad = self.backprop(a_out, y)\n",
    "        diff = np.linalg.norm(numgrad - grad)/np.linalg.norm(numgrad + grad)\n",
    "        print('Relative Difference: %g' % diff)\n",
    "\n",
    "\n",
    "    def optimize(self, X_train, y_train, X_val, y_val, lambda_new = 0):\n",
    "        for epoch in range(self.max_epoch):\n",
    "            m = np.zeros(self.theta.shape)\n",
    "            v = np.zeros(self.theta.shape)\n",
    "            lst =  np.arange(y_train.shape[0])\n",
    "            np.random.shuffle(lst)\n",
    "            chunks = np.array([lst[i: i + self.chunk_size] for i in range(0, y_train.shape[0], self.chunk_size)])\n",
    "            theta_new = self.theta.copy()\n",
    "            for t, chunk in enumerate(chunks):\n",
    "                xi = X_train[chunk]\n",
    "                yi = y_train[chunk]\n",
    "                a_out = self.feedforward(xi, theta_new)\n",
    "                grad = self.backprop(a_out, yi, theta_new)  \n",
    "                if (self.optimizer == 'adam'):\n",
    "                    #Ti = 0.1 *\n",
    "                    #self.lambda_ = 0.025 * np.sqrt(self.chunk_size/(y.shape[0]*\n",
    "                    grad = grad + (lambda_new) * self.nulling(theta_new)\n",
    "                    m = self.beta_1 * m + (1 - self.beta_1) * grad\n",
    "                    v = self.beta_2 * v + (1 - self.beta_2) * np.power(grad, 2)\n",
    "                    m_hat = m / (1 - np.power(self.beta_1, t + 1))\n",
    "                    v_hat = v / (1 - np.power(self.beta_2, t + 1))\n",
    "                    theta_new = theta_new - self.learning_rate * m_hat / (np.sqrt(v_hat) + self.epsilon) - (lambda_new) * self.nulling(theta_new)\n",
    "                elif (self.optimizer == 'gradient_descent'):\n",
    "                    theta_new = theta_new - self.learning_rate * grad -  lambda_new * self.nulling(theta_new)\n",
    "            a_out_train = self.feedforward(X_train, theta_new)\n",
    "  \n",
    "            loss_train = self.compute_loss(a_out_train, y_train, theta_new)# + lambda_new * np.sum(np.power(self.nulling(theta_new), 2))/2\n",
    "            a_out_val = self.feedforward(X_val, theta_new)\n",
    "            loss_val = self.compute_loss(a_out_val, y_val, theta_new) #+ lambda_new * np.sum(np.power(self.nulling(theta_new), 2))/2\n",
    "\n",
    "            self.theta = theta_new\n",
    "            print(f'{np.round(loss_train,2)}    {np.round(loss_val,2)}    {epoch}')\n",
    "        return loss_train, loss_val\n",
    "    \n",
    "    def __repr__(self):\n",
    "        return str(len(self.sequential))"
   ]
  },
  {
   "cell_type": "code",
   "execution_count": 14,
   "metadata": {
    "executionInfo": {
     "elapsed": 553,
     "status": "ok",
     "timestamp": 1624464641439,
     "user": {
      "displayName": "Maxim Tabolin",
      "photoUrl": "",
      "userId": "11591994697218843812"
     },
     "user_tz": -180
    },
    "id": "AGYK1b3NR6-q"
   },
   "outputs": [],
   "source": [
    "dus_mm = NN_model(X.shape[1], 'loglos')\n",
    "dus_mm.add(Layer(128, 'sigmoid'))\n",
    "dus_mm.add(Layer(128, 'sigmoid'))\n",
    "dus_mm.add(Layer(y.shape[1], 'sigmoid'))"
   ]
  },
  {
   "cell_type": "code",
   "execution_count": 300,
   "metadata": {
    "executionInfo": {
     "elapsed": 684,
     "status": "ok",
     "timestamp": 1624463298944,
     "user": {
      "displayName": "Maxim Tabolin",
      "photoUrl": "",
      "userId": "11591994697218843812"
     },
     "user_tz": -180
    },
    "id": "fh_MQJ_MR3Hp"
   },
   "outputs": [],
   "source": [
    "import scipy.io\n",
    "mat = scipy.io.loadmat('mnist.mat')\n",
    "X = mat['X']\n",
    "y = mat['y']\n",
    "y[y == 10] = 0\n",
    "y0 = np.zeros((y.size, 10))\n",
    "for i in range(y.shape[0]):\n",
    "    y0[i,y[i]] = 1\n",
    "y = y0"
   ]
  },
  {
   "cell_type": "code",
   "execution_count": 187,
   "metadata": {
    "executionInfo": {
     "elapsed": 11,
     "status": "ok",
     "timestamp": 1624461459721,
     "user": {
      "displayName": "Maxim Tabolin",
      "photoUrl": "",
      "userId": "11591994697218843812"
     },
     "user_tz": -180
    },
    "id": "fa38a8e6"
   },
   "outputs": [],
   "source": [
    "# dus_mm = NN_model(X.shape[1])\n",
    "# dus_mm.add(Layer(128, 'relu'))\n",
    "# dus_mm.add(Layer(128, 'relu'))\n",
    "# dus_mm.add(Layer(128, 'relu'))\n",
    "# dus_mm.add(Layer(y.shape[1], 'relu'))"
   ]
  },
  {
   "cell_type": "code",
   "execution_count": 364,
   "metadata": {
    "colab": {
     "base_uri": "https://localhost:8080/",
     "height": 265
    },
    "executionInfo": {
     "elapsed": 792,
     "status": "ok",
     "timestamp": 1624464329256,
     "user": {
      "displayName": "Maxim Tabolin",
      "photoUrl": "",
      "userId": "11591994697218843812"
     },
     "user_tz": -180
    },
    "id": "wFpD5CtzZlxA",
    "outputId": "39c0c69c-0e57-4dd9-bee7-04bae163d094"
   },
   "outputs": [
    {
     "data": {
      "image/png": "[encoded data removed]",
      "text/plain": [
       "<Figure size 432x288 with 1 Axes>"
      ]
     },
     "metadata": {
      "tags": []
     },
     "output_type": "display_data"
    }
   ],
   "source": [
    "import matplotlib.pyplot as plt\n",
    "import numpy as np\n",
    "\n",
    "# накидываем тысячу точек от -3 до 3\n",
    "X = np.linspace(-3, 3, 1000).reshape(-1, 1)\n",
    "\n",
    "# задаём линейную функцию, которую попробуем приблизить нашей нейронной сетью\n",
    "def f(x):    \n",
    "    return 2 * np.sin(x) + 5\n",
    "\n",
    "f = np.vectorize(f)\n",
    "\n",
    "# вычисляем вектор значений функции\n",
    "y = f(X)\n",
    "\n",
    "# отрисовываем результат приближения нейросетью поверх исходной функции\n",
    "plt.scatter(X_train, y, color='black', antialiased=True)\n",
    "#plt.plot(, model.predict(x), color='magenta', linewidth=2, antialiased=True)\n",
    "plt.show()\n",
    "\n",
    "# выводим веса на экран\n",
    "# for layer in model.layers:\n",
    "#     weights = layer.get_weights()\n",
    "#     print(weights)"
   ]
  },
  {
   "cell_type": "code",
   "execution_count": 389,
   "metadata": {
    "colab": {
     "background_save": true
    },
    "executionInfo": {
     "elapsed": 7,
     "status": "ok",
     "timestamp": 1624464851410,
     "user": {
      "displayName": "Maxim Tabolin",
      "photoUrl": "",
      "userId": "11591994697218843812"
     },
     "user_tz": -180
    },
    "id": "XlZMY-XBaHP5"
   },
   "outputs": [],
   "source": [
    "dus_mm = NN_model(X.shape[1], 'mean_squared_error')\n",
    "dus_mm.add(Layer(y.shape[1], 'linear'))"
   ]
  },
  {
   "cell_type": "code",
   "execution_count": 390,
   "metadata": {
    "colab": {
     "base_uri": "https://localhost:8080/"
    },
    "executionInfo": {
     "elapsed": 1080,
     "status": "ok",
     "timestamp": 1624464853613,
     "user": {
      "displayName": "Maxim Tabolin",
      "photoUrl": "",
      "userId": "11591994697218843812"
     },
     "user_tz": -180
    },
    "id": "jOpGhdRhNZe4",
    "outputId": "f4c275cd-736e-4c7c-d5bb-a7c15818c4e2"
   },
   "outputs": [
    {
     "name": "stdout",
     "output_type": "stream",
     "text": [
      "9.81    9.68    0\n",
      "8.0    7.91    1\n",
      "6.54    6.47    2\n",
      "5.36    5.31    3\n",
      "4.4    4.36    4\n",
      "3.63    3.59    5\n",
      "3.0    2.97    6\n",
      "2.49    2.47    7\n",
      "2.08    2.06    8\n",
      "1.75    1.73    9\n",
      "1.48    1.47    10\n",
      "1.26    1.25    11\n",
      "1.08    1.08    12\n",
      "0.94    0.93    13\n",
      "0.82    0.82    14\n",
      "0.73    0.73    15\n",
      "0.65    0.65    16\n",
      "0.59    0.59    17\n",
      "0.54    0.54    18\n",
      "0.5    0.5    19\n",
      "0.47    0.47    20\n",
      "0.44    0.45    21\n",
      "0.42    0.43    22\n",
      "0.4    0.41    23\n",
      "0.39    0.4    24\n",
      "0.38    0.39    25\n",
      "0.37    0.38    26\n",
      "0.36    0.37    27\n",
      "0.35    0.37    28\n",
      "0.35    0.36    29\n",
      "0.34    0.36    30\n",
      "0.34    0.35    31\n",
      "0.34    0.35    32\n",
      "0.34    0.35    33\n",
      "0.33    0.35    34\n",
      "0.33    0.35    35\n",
      "0.33    0.35    36\n",
      "0.33    0.35    37\n",
      "0.33    0.35    38\n",
      "0.33    0.35    39\n",
      "0.33    0.35    40\n",
      "0.33    0.35    41\n",
      "0.33    0.34    42\n",
      "0.33    0.34    43\n",
      "0.33    0.34    44\n",
      "0.33    0.34    45\n",
      "0.33    0.34    46\n",
      "0.33    0.34    47\n",
      "0.33    0.34    48\n",
      "0.33    0.34    49\n",
      "0.33    0.34    50\n",
      "0.33    0.34    51\n",
      "0.33    0.34    52\n",
      "0.33    0.34    53\n",
      "0.33    0.34    54\n",
      "0.33    0.34    55\n",
      "0.33    0.34    56\n",
      "0.33    0.34    57\n",
      "0.33    0.34    58\n",
      "0.33    0.34    59\n",
      "0.33    0.34    60\n",
      "0.33    0.34    61\n",
      "0.33    0.34    62\n",
      "0.33    0.34    63\n",
      "0.33    0.34    64\n",
      "0.33    0.34    65\n",
      "0.33    0.34    66\n",
      "0.33    0.34    67\n",
      "0.33    0.34    68\n",
      "0.33    0.34    69\n",
      "0.33    0.34    70\n",
      "0.33    0.34    71\n",
      "0.33    0.34    72\n",
      "0.33    0.34    73\n",
      "0.33    0.34    74\n",
      "0.33    0.34    75\n",
      "0.33    0.34    76\n",
      "0.33    0.34    77\n",
      "0.33    0.34    78\n",
      "0.33    0.34    79\n",
      "0.33    0.34    80\n",
      "0.33    0.34    81\n",
      "0.33    0.34    82\n",
      "0.33    0.34    83\n",
      "0.33    0.34    84\n",
      "0.33    0.34    85\n",
      "0.33    0.34    86\n",
      "0.33    0.34    87\n",
      "0.33    0.34    88\n",
      "0.33    0.34    89\n",
      "0.33    0.34    90\n",
      "0.33    0.34    91\n",
      "0.33    0.34    92\n",
      "0.33    0.34    93\n",
      "0.33    0.34    94\n",
      "0.33    0.34    95\n",
      "0.33    0.34    96\n",
      "0.33    0.34    97\n",
      "0.33    0.34    98\n",
      "0.33    0.34    99\n",
      "0.33    0.34    0\n",
      "0.33    0.34    1\n",
      "0.33    0.34    2\n",
      "0.33    0.34    3\n",
      "0.33    0.34    4\n",
      "0.33    0.35    5\n",
      "0.33    0.35    6\n",
      "0.33    0.35    7\n",
      "0.33    0.35    8\n",
      "0.33    0.35    9\n",
      "0.33    0.35    10\n",
      "0.33    0.35    11\n",
      "0.33    0.35    12\n",
      "0.33    0.35    13\n",
      "0.33    0.35    14\n",
      "0.33    0.35    15\n",
      "0.33    0.35    16\n",
      "0.33    0.35    17\n",
      "0.33    0.35    18\n",
      "0.33    0.35    19\n",
      "0.33    0.35    20\n",
      "0.33    0.35    21\n",
      "0.33    0.35    22\n",
      "0.33    0.35    23\n",
      "0.33    0.35    24\n",
      "0.33    0.35    25\n",
      "0.33    0.35    26\n",
      "0.33    0.35    27\n",
      "0.33    0.35    28\n",
      "0.33    0.35    29\n",
      "0.33    0.35    30\n",
      "0.33    0.35    31\n",
      "0.33    0.35    32\n",
      "0.33    0.35    33\n",
      "0.33    0.35    34\n",
      "0.33    0.35    35\n",
      "0.33    0.35    36\n",
      "0.33    0.35    37\n",
      "0.33    0.35    38\n",
      "0.33    0.35    39\n",
      "0.33    0.35    40\n",
      "0.33    0.35    41\n",
      "0.33    0.35    42\n",
      "0.33    0.35    43\n",
      "0.33    0.35    44\n",
      "0.33    0.35    45\n",
      "0.33    0.35    46\n",
      "0.33    0.35    47\n",
      "0.33    0.35    48\n",
      "0.33    0.35    49\n",
      "0.33    0.35    50\n",
      "0.33    0.35    51\n",
      "0.33    0.35    52\n",
      "0.33    0.35    53\n",
      "0.33    0.35    54\n",
      "0.33    0.35    55\n",
      "0.33    0.35    56\n",
      "0.33    0.35    57\n",
      "0.33    0.35    58\n",
      "0.33    0.35    59\n",
      "0.33    0.35    60\n",
      "0.33    0.35    61\n",
      "0.33    0.35    62\n",
      "0.33    0.35    63\n",
      "0.33    0.35    64\n",
      "0.33    0.35    65\n",
      "0.33    0.35    66\n",
      "0.33    0.35    67\n",
      "0.33    0.35    68\n",
      "0.33    0.35    69\n",
      "0.33    0.35    70\n",
      "0.33    0.35    71\n",
      "0.33    0.35    72\n",
      "0.33    0.35    73\n",
      "0.33    0.35    74\n",
      "0.33    0.35    75\n",
      "0.33    0.35    76\n",
      "0.33    0.35    77\n",
      "0.33    0.35    78\n",
      "0.33    0.35    79\n",
      "0.33    0.35    80\n",
      "0.33    0.35    81\n",
      "0.33    0.35    82\n",
      "0.33    0.35    83\n",
      "0.33    0.35    84\n",
      "0.33    0.35    85\n",
      "0.33    0.35    86\n",
      "0.33    0.35    87\n",
      "0.33    0.35    88\n",
      "0.33    0.35    89\n",
      "0.33    0.35    90\n",
      "0.33    0.35    91\n",
      "0.33    0.35    92\n",
      "0.33    0.35    93\n",
      "0.33    0.35    94\n",
      "0.33    0.35    95\n",
      "0.33    0.35    96\n",
      "0.33    0.35    97\n",
      "0.33    0.35    98\n",
      "0.33    0.35    99\n",
      "0.33    0.32    0\n",
      "0.33    0.32    1\n",
      "0.33    0.32    2\n",
      "0.33    0.32    3\n",
      "0.33    0.32    4\n",
      "0.33    0.32    5\n",
      "0.33    0.32    6\n",
      "0.33    0.32    7\n",
      "0.33    0.32    8\n",
      "0.33    0.32    9\n",
      "0.33    0.32    10\n",
      "0.33    0.32    11\n",
      "0.33    0.32    12\n",
      "0.33    0.32    13\n",
      "0.33    0.32    14\n",
      "0.33    0.32    15\n",
      "0.33    0.32    16\n",
      "0.33    0.32    17\n",
      "0.33    0.32    18\n",
      "0.33    0.32    19\n",
      "0.33    0.32    20\n",
      "0.33    0.32    21\n",
      "0.33    0.32    22\n",
      "0.33    0.32    23\n",
      "0.33    0.32    24\n",
      "0.33    0.32    25\n",
      "0.33    0.32    26\n",
      "0.33    0.32    27\n",
      "0.33    0.32    28\n",
      "0.33    0.32    29\n",
      "0.33    0.32    30\n",
      "0.33    0.32    31\n",
      "0.33    0.32    32\n",
      "0.33    0.32    33\n",
      "0.33    0.32    34\n",
      "0.33    0.32    35\n",
      "0.33    0.32    36\n",
      "0.33    0.32    37\n",
      "0.33    0.32    38\n",
      "0.33    0.32    39\n",
      "0.33    0.32    40\n",
      "0.33    0.32    41\n",
      "0.33    0.32    42\n",
      "0.33    0.32    43\n",
      "0.33    0.32    44\n",
      "0.33    0.32    45\n",
      "0.33    0.32    46\n",
      "0.33    0.32    47\n",
      "0.33    0.32    48\n",
      "0.33    0.32    49\n",
      "0.33    0.32    50\n",
      "0.33    0.32    51\n",
      "0.33    0.32    52\n",
      "0.33    0.32    53\n",
      "0.33    0.32    54\n",
      "0.33    0.32    55\n",
      "0.33    0.32    56\n",
      "0.33    0.32    57\n",
      "0.33    0.32    58\n",
      "0.33    0.32    59\n",
      "0.33    0.32    60\n",
      "0.33    0.32    61\n",
      "0.33    0.32    62\n",
      "0.33    0.32    63\n",
      "0.33    0.32    64\n",
      "0.33    0.32    65\n",
      "0.33    0.32    66\n",
      "0.33    0.32    67\n",
      "0.33    0.32    68\n",
      "0.33    0.32    69\n",
      "0.33    0.32    70\n",
      "0.33    0.32    71\n",
      "0.33    0.32    72\n",
      "0.33    0.32    73\n",
      "0.33    0.32    74\n",
      "0.33    0.32    75\n",
      "0.33    0.32    76\n",
      "0.33    0.32    77\n",
      "0.33    0.32    78\n",
      "0.33    0.32    79\n",
      "0.33    0.32    80\n",
      "0.33    0.32    81\n",
      "0.33    0.32    82\n",
      "0.33    0.32    83\n",
      "0.33    0.32    84\n",
      "0.33    0.32    85\n",
      "0.33    0.32    86\n",
      "0.33    0.32    87\n",
      "0.33    0.32    88\n",
      "0.33    0.32    89\n",
      "0.33    0.32    90\n",
      "0.33    0.32    91\n",
      "0.33    0.32    92\n",
      "0.33    0.32    93\n",
      "0.33    0.32    94\n",
      "0.33    0.32    95\n",
      "0.33    0.32    96\n",
      "0.33    0.32    97\n",
      "0.33    0.32    98\n",
      "0.33    0.32    99\n",
      "0.33    0.34    0\n",
      "0.33    0.34    1\n",
      "0.33    0.34    2\n",
      "0.33    0.34    3\n",
      "0.33    0.34    4\n",
      "0.33    0.34    5\n",
      "0.33    0.34    6\n",
      "0.33    0.34    7\n",
      "0.33    0.34    8\n",
      "0.33    0.34    9\n",
      "0.33    0.34    10\n",
      "0.33    0.34    11\n",
      "0.33    0.34    12\n",
      "0.33    0.34    13\n",
      "0.33    0.34    14\n",
      "0.33    0.34    15\n",
      "0.33    0.34    16\n",
      "0.33    0.34    17\n",
      "0.33    0.34    18\n",
      "0.33    0.34    19\n",
      "0.33    0.34    20\n",
      "0.33    0.34    21\n",
      "0.33    0.34    22\n",
      "0.33    0.34    23\n",
      "0.33    0.34    24\n",
      "0.33    0.34    25\n",
      "0.33    0.34    26\n",
      "0.33    0.34    27\n",
      "0.33    0.34    28\n",
      "0.33    0.34    29\n",
      "0.33    0.34    30\n",
      "0.33    0.34    31\n",
      "0.33    0.34    32\n",
      "0.33    0.34    33\n",
      "0.33    0.34    34\n",
      "0.33    0.34    35\n",
      "0.33    0.34    36\n",
      "0.33    0.34    37\n",
      "0.33    0.34    38\n",
      "0.33    0.34    39\n",
      "0.33    0.34    40\n",
      "0.33    0.34    41\n",
      "0.33    0.34    42\n",
      "0.33    0.34    43\n",
      "0.33    0.34    44\n",
      "0.33    0.34    45\n",
      "0.33    0.34    46\n",
      "0.33    0.34    47\n",
      "0.33    0.34    48\n",
      "0.33    0.34    49\n",
      "0.33    0.34    50\n",
      "0.33    0.34    51\n",
      "0.33    0.34    52\n",
      "0.33    0.34    53\n",
      "0.33    0.34    54\n",
      "0.33    0.34    55\n",
      "0.33    0.34    56\n",
      "0.33    0.34    57\n",
      "0.33    0.34    58\n",
      "0.33    0.34    59\n",
      "0.33    0.34    60\n",
      "0.33    0.34    61\n",
      "0.33    0.34    62\n",
      "0.33    0.34    63\n",
      "0.33    0.34    64\n",
      "0.33    0.34    65\n",
      "0.33    0.34    66\n",
      "0.33    0.34    67\n",
      "0.33    0.34    68\n",
      "0.33    0.34    69\n",
      "0.33    0.34    70\n",
      "0.33    0.34    71\n",
      "0.33    0.34    72\n",
      "0.33    0.34    73\n",
      "0.33    0.34    74\n",
      "0.33    0.34    75\n",
      "0.33    0.34    76\n",
      "0.33    0.34    77\n",
      "0.33    0.34    78\n",
      "0.33    0.34    79\n",
      "0.33    0.34    80\n",
      "0.33    0.34    81\n",
      "0.33    0.34    82\n",
      "0.33    0.34    83\n",
      "0.33    0.34    84\n",
      "0.33    0.34    85\n",
      "0.33    0.34    86\n",
      "0.33    0.34    87\n",
      "0.33    0.34    88\n",
      "0.33    0.34    89\n",
      "0.33    0.34    90\n",
      "0.33    0.34    91\n",
      "0.33    0.34    92\n",
      "0.33    0.34    93\n",
      "0.33    0.34    94\n",
      "0.33    0.34    95\n",
      "0.33    0.34    96\n",
      "0.33    0.34    97\n",
      "0.33    0.34    98\n",
      "0.33    0.34    99\n",
      "0.34    0.31    0\n",
      "0.34    0.31    1\n",
      "0.34    0.31    2\n",
      "0.34    0.31    3\n",
      "0.34    0.31    4\n",
      "0.34    0.31    5\n",
      "0.34    0.31    6\n",
      "0.34    0.31    7\n",
      "0.34    0.31    8\n",
      "0.34    0.31    9\n",
      "0.34    0.31    10\n",
      "0.34    0.31    11\n",
      "0.34    0.31    12\n",
      "0.34    0.31    13\n",
      "0.34    0.31    14\n",
      "0.34    0.31    15\n",
      "0.34    0.31    16\n",
      "0.34    0.31    17\n",
      "0.34    0.31    18\n",
      "0.34    0.31    19\n",
      "0.34    0.31    20\n",
      "0.34    0.31    21\n",
      "0.34    0.31    22\n",
      "0.34    0.31    23\n",
      "0.34    0.31    24\n",
      "0.34    0.31    25\n",
      "0.34    0.31    26\n",
      "0.34    0.31    27\n",
      "0.34    0.31    28\n",
      "0.34    0.31    29\n",
      "0.34    0.31    30\n",
      "0.34    0.31    31\n",
      "0.34    0.31    32\n",
      "0.34    0.31    33\n",
      "0.34    0.31    34\n",
      "0.34    0.31    35\n",
      "0.34    0.31    36\n",
      "0.34    0.31    37\n",
      "0.34    0.31    38\n",
      "0.34    0.31    39\n",
      "0.34    0.31    40\n",
      "0.34    0.31    41\n",
      "0.34    0.31    42\n",
      "0.34    0.31    43\n",
      "0.34    0.31    44\n",
      "0.34    0.31    45\n",
      "0.34    0.31    46\n",
      "0.34    0.31    47\n",
      "0.34    0.31    48\n",
      "0.34    0.31    49\n",
      "0.34    0.31    50\n",
      "0.34    0.31    51\n",
      "0.34    0.31    52\n",
      "0.34    0.31    53\n",
      "0.34    0.31    54\n",
      "0.34    0.31    55\n",
      "0.34    0.31    56\n",
      "0.34    0.31    57\n",
      "0.34    0.31    58\n",
      "0.34    0.31    59\n",
      "0.34    0.31    60\n",
      "0.34    0.31    61\n",
      "0.34    0.31    62\n",
      "0.34    0.31    63\n",
      "0.34    0.31    64\n",
      "0.34    0.31    65\n",
      "0.34    0.31    66\n",
      "0.34    0.31    67\n",
      "0.34    0.31    68\n",
      "0.34    0.31    69\n",
      "0.34    0.31    70\n",
      "0.34    0.31    71\n",
      "0.34    0.31    72\n",
      "0.34    0.31    73\n",
      "0.34    0.31    74\n",
      "0.34    0.31    75\n",
      "0.34    0.31    76\n",
      "0.34    0.31    77\n",
      "0.34    0.31    78\n",
      "0.34    0.31    79\n",
      "0.34    0.31    80\n",
      "0.34    0.31    81\n",
      "0.34    0.31    82\n",
      "0.34    0.31    83\n",
      "0.34    0.31    84\n",
      "0.34    0.31    85\n",
      "0.34    0.31    86\n",
      "0.34    0.31    87\n",
      "0.34    0.31    88\n",
      "0.34    0.31    89\n",
      "0.34    0.31    90\n",
      "0.34    0.31    91\n",
      "0.34    0.31    92\n",
      "0.34    0.31    93\n",
      "0.34    0.31    94\n",
      "0.34    0.31    95\n",
      "0.34    0.31    96\n",
      "0.34    0.31    97\n",
      "0.34    0.31    98\n",
      "0.34    0.31    99\n"
     ]
    }
   ],
   "source": [
    "X = np.array(X)\n",
    "y = np.array(y)\n",
    "lambda_vec = [0]\n",
    "\n",
    "nfold = 5\n",
    "slice_fold = int(y.shape[0] // nfold)\n",
    "lst =  np.arange(y.shape[:(5 * slice_fold)][0])\n",
    "np.random.shuffle(lst)\n",
    "list_fold = np.array([lst[i * slice_fold:(i + 1) * slice_fold] for i in range(nfold)])\n",
    "\n",
    "train_error = np.zeros(nfold)\n",
    "val_error = np.zeros(nfold)\n",
    "train_reg = np.zeros(len(lambda_vec))\n",
    "val_reg = np.zeros(len(lambda_vec))\n",
    "\n",
    "for k in range(len(lambda_vec)):\n",
    "    for i in range(nfold):\n",
    "        X_train = X[np.delete(list_fold, i, 0).ravel()]\n",
    "        y_train = y[np.delete(list_fold, i, 0).ravel()]\n",
    "        X_val = X[list_fold[i]]\n",
    "        y_val = y[list_fold[i]]\n",
    "        train_error[i], val_error[i] = dus_mm.optimize(X_train, y_train, X_val, y_val, lambda_vec[k])\n",
    "    train_reg[k] = np.mean(train_error)  \n",
    "    val_reg[k] = np.mean(val_error)"
   ]
  },
  {
   "cell_type": "code",
   "execution_count": null,
   "metadata": {
    "id": "eto14XwfoaCJ"
   },
   "outputs": [],
   "source": [
    "a_out_train = self.feedforward(X_train)"
   ]
  },
  {
   "cell_type": "code",
   "execution_count": 384,
   "metadata": {
    "colab": {
     "background_save": true,
     "base_uri": "https://localhost:8080/"
    },
    "executionInfo": {
     "elapsed": 501,
     "status": "ok",
     "timestamp": 1624464796940,
     "user": {
      "displayName": "Maxim Tabolin",
      "photoUrl": "",
      "userId": "11591994697218843812"
     },
     "user_tz": -180
    },
    "id": "VR89wSInpLQ-"
   },
   "outputs": [
    {
     "data": {
      "text/plain": [
       "array([6.6190037 , 5.42486947, 4.16073427, 4.39956112, 5.28486753,\n",
       "       6.36782374, 3.04483642, 3.88484808, 4.1936759 , 5.84899301,\n",
       "       5.08310002, 6.60253289, 7.0019502 , 3.91778972, 6.48723717,\n",
       "       3.16013214, 5.5484006 , 3.65425665, 2.99130626, 3.25072163,\n",
       "       3.06130724, 4.92250955, 4.21014672, 4.21426442, 6.76724106,\n",
       "       6.18664476, 3.1189551 , 3.35778194, 5.9354648 , 2.93777611,\n",
       "       6.11252608, 5.86546383, 6.05487822, 4.79074302, 4.81544924,\n",
       "       5.97252414, 6.2237041 , 4.44485586, 6.73018172, 4.03308544,\n",
       "       3.88073038, 3.72425762, 5.11604165, 5.81605138, 3.96720217,\n",
       "       5.77075663, 6.31429359, 3.5142547 , 4.23485295, 4.91839185,\n",
       "       4.29661851, 4.14838116, 4.01249692, 4.72074205, 6.49135487,\n",
       "       4.46544438, 4.05367396, 4.04543855, 5.00486364, 4.24720606,\n",
       "       5.22721967, 6.99371479, 3.51837241, 3.76543466, 6.21135098,\n",
       "       3.74072844, 4.02073232, 5.12839477, 3.97131987, 5.31369146,\n",
       "       4.56015158, 4.16485197, 6.59429748, 3.95073135, 4.53544536,\n",
       "       6.21958639, 6.54900273, 4.85250858, 5.41663406, 5.63487239,\n",
       "       4.00837921, 4.81956695, 6.54076732, 6.69312238, 6.25664573,\n",
       "       5.79546285, 3.90543661, 5.42075177, 4.42426734, 6.76312335,\n",
       "       5.05839379, 4.97603971, 6.24017491, 4.08249789, 5.56898912,\n",
       "       4.93898037, 6.68900468, 3.37837046, 4.9678043 , 6.3266467 ,\n",
       "       6.17429165, 5.4536934 , 3.20130918, 6.1289969 , 4.23897065,\n",
       "       5.68840254, 6.030172  , 5.93134709, 6.05076052, 3.81484711,\n",
       "       3.33307572, 5.34251539, 5.40839866, 4.99251053, 3.98367299,\n",
       "       4.52309224, 5.98487725, 4.51485683, 7.01842102, 6.7095932 ,\n",
       "       6.27311655, 6.66841615, 3.43601832, 6.09193756, 3.18072066,\n",
       "       6.63547452, 5.50310585, 4.09896871, 6.81665351, 6.53664962,\n",
       "       6.58606207, 5.53604749, 4.58897551, 5.87781694, 4.81133154,\n",
       "       4.50662143, 4.21838213, 2.96660004, 5.12015936, 6.30194048,\n",
       "       3.34954653, 4.95956889, 5.32192687, 3.95896676, 4.07838018,\n",
       "       5.59369535, 4.51897454, 6.08370215, 3.15601443, 3.07366035,\n",
       "       4.04955625, 3.05718953, 4.49838602, 6.05899593, 5.98075955,\n",
       "       5.91899398, 5.01309905, 4.42838505, 6.48311946, 4.93074496,\n",
       "       5.33016227, 6.28958736, 6.55723814, 6.49959028, 4.72485975,\n",
       "       6.95665545, 4.25132376, 5.04604068, 4.3830903 , 4.66309419,\n",
       "       6.84135973, 6.89077218, 3.53072552, 6.34311752, 4.44073816,\n",
       "       5.39192784, 3.92190742, 5.61016616, 6.91547841, 3.52660782,\n",
       "       6.10017297, 4.89780333, 6.17840935, 4.23073524, 7.02253872,\n",
       "       5.17780722, 6.614886  , 4.92662726, 6.17017394, 3.77367007,\n",
       "       6.37605915, 5.78722745, 6.85371285, 2.95424693, 6.82900662,\n",
       "       5.737815  , 5.91487628, 3.81896482, 5.63075468, 3.55131404])"
      ]
     },
     "execution_count": null,
     "metadata": {},
     "output_type": "execute_result"
    }
   ],
   "source": [
    "dus_mm.form_output(X_val)"
   ]
  },
  {
   "cell_type": "code",
   "execution_count": 382,
   "metadata": {
    "colab": {
     "base_uri": "https://localhost:8080/"
    },
    "executionInfo": {
     "elapsed": 562,
     "status": "ok",
     "timestamp": 1624464759832,
     "user": {
      "displayName": "Maxim Tabolin",
      "photoUrl": "",
      "userId": "11591994697218843812"
     },
     "user_tz": -180
    },
    "id": "splY6T0zpPON",
    "outputId": "97a7832d-15e1-484b-c45b-8dc06b4e3935"
   },
   "outputs": [
    {
     "data": {
      "text/plain": [
       "(200, 1)"
      ]
     },
     "execution_count": 382,
     "metadata": {
      "tags": []
     },
     "output_type": "execute_result"
    }
   ],
   "source": [
    "X_val.shape"
   ]
  },
  {
   "cell_type": "code",
   "execution_count": 391,
   "metadata": {
    "colab": {
     "base_uri": "https://localhost:8080/",
     "height": 265
    },
    "executionInfo": {
     "elapsed": 867,
     "status": "ok",
     "timestamp": 1624464869144,
     "user": {
      "displayName": "Maxim Tabolin",
      "photoUrl": "",
      "userId": "11591994697218843812"
     },
     "user_tz": -180
    },
    "id": "tH3oUq9PoMO-",
    "outputId": "68e0da37-6fc1-4426-cad0-c839a12b6fd5"
   },
   "outputs": [
    {
     "data": {
      "image/png": "[encoded data removed]",
      "text/plain": [
       "<Figure size 432x288 with 1 Axes>"
      ]
     },
     "metadata": {
      "tags": []
     },
     "output_type": "display_data"
    }
   ],
   "source": [
    "# отрисовываем результат приближения нейросетью поверх исходной функции\n",
    "plt.scatter(X_val, y_val, color='black', antialiased=True)\n",
    "plt.plot(X_val, dus_mm.form_output(X_val,y_val), color='magenta', linewidth=2, antialiased=True)\n",
    "plt.show()"
   ]
  },
  {
   "cell_type": "code",
   "execution_count": 368,
   "metadata": {
    "colab": {
     "base_uri": "https://localhost:8080/"
    },
    "executionInfo": {
     "elapsed": 584,
     "status": "ok",
     "timestamp": 1624464473209,
     "user": {
      "displayName": "Maxim Tabolin",
      "photoUrl": "",
      "userId": "11591994697218843812"
     },
     "user_tz": -180
    },
    "id": "se9YiqHNe0r0",
    "outputId": "b9771e72-716e-4b1a-d6cc-be3df1f23993"
   },
   "outputs": [
    {
     "name": "stdout",
     "output_type": "stream",
     "text": [
      "Relative Difference: 1.47801e-11\n"
     ]
    }
   ],
   "source": [
    "f = dus_mm.gradient_checking(X,y)"
   ]
  },
  {
   "cell_type": "code",
   "execution_count": 220,
   "metadata": {
    "colab": {
     "base_uri": "https://localhost:8080/",
     "height": 236
    },
    "executionInfo": {
     "elapsed": 661,
     "status": "error",
     "timestamp": 1624461976119,
     "user": {
      "displayName": "Maxim Tabolin",
      "photoUrl": "",
      "userId": "11591994697218843812"
     },
     "user_tz": -180
    },
    "id": "nTD-6WNLtzzG",
    "outputId": "9890192c-be10-4079-99b5-7aa702514d0a"
   },
   "outputs": [
    {
     "ename": "TypeError",
     "evalue": "ignored",
     "output_type": "error",
     "traceback": [
      "\u001b[0;31m---------------------------------------------------------------------------\u001b[0m",
      "\u001b[0;31mTypeError\u001b[0m                                 Traceback (most recent call last)",
      "\u001b[0;32m<ipython-input-220-af783800b7c7>\u001b[0m in \u001b[0;36m<module>\u001b[0;34m()\u001b[0m\n\u001b[1;32m      6\u001b[0m \u001b[0;32mfor\u001b[0m \u001b[0mi\u001b[0m \u001b[0;32min\u001b[0m \u001b[0mrange\u001b[0m\u001b[0;34m(\u001b[0m\u001b[0mlen\u001b[0m\u001b[0;34m(\u001b[0m\u001b[0mlambda_vec\u001b[0m\u001b[0;34m)\u001b[0m\u001b[0;34m)\u001b[0m\u001b[0;34m:\u001b[0m\u001b[0;34m\u001b[0m\u001b[0;34m\u001b[0m\u001b[0m\n\u001b[1;32m      7\u001b[0m   \u001b[0mdus_mm\u001b[0m\u001b[0;34m.\u001b[0m\u001b[0mtheta\u001b[0m \u001b[0;34m=\u001b[0m \u001b[0minit_theta\u001b[0m\u001b[0;34m.\u001b[0m\u001b[0mcopy\u001b[0m\u001b[0;34m(\u001b[0m\u001b[0;34m)\u001b[0m\u001b[0;34m\u001b[0m\u001b[0;34m\u001b[0m\u001b[0m\n\u001b[0;32m----> 8\u001b[0;31m   \u001b[0mdus_mm\u001b[0m\u001b[0;34m.\u001b[0m\u001b[0moptimize\u001b[0m\u001b[0;34m(\u001b[0m\u001b[0mX_train\u001b[0m\u001b[0;34m,\u001b[0m \u001b[0my_train\u001b[0m\u001b[0;34m,\u001b[0m \u001b[0mlambda_vec\u001b[0m\u001b[0;34m[\u001b[0m\u001b[0mi\u001b[0m\u001b[0;34m]\u001b[0m\u001b[0;34m)\u001b[0m\u001b[0;34m\u001b[0m\u001b[0;34m\u001b[0m\u001b[0m\n\u001b[0m\u001b[1;32m      9\u001b[0m   \u001b[0ma_out\u001b[0m \u001b[0;34m=\u001b[0m \u001b[0mdus_mm\u001b[0m\u001b[0;34m.\u001b[0m\u001b[0mfeedforward\u001b[0m\u001b[0;34m(\u001b[0m\u001b[0mX_train\u001b[0m\u001b[0;34m)\u001b[0m\u001b[0;34m\u001b[0m\u001b[0;34m\u001b[0m\u001b[0m\n\u001b[1;32m     10\u001b[0m   \u001b[0ma_end\u001b[0m \u001b[0;34m=\u001b[0m \u001b[0ma_out\u001b[0m\u001b[0;34m[\u001b[0m\u001b[0;34m:\u001b[0m\u001b[0;34m(\u001b[0m\u001b[0mdus_mm\u001b[0m\u001b[0;34m.\u001b[0m\u001b[0msequential\u001b[0m\u001b[0;34m[\u001b[0m\u001b[0;34m-\u001b[0m\u001b[0;36m1\u001b[0m\u001b[0;34m]\u001b[0m\u001b[0;34m.\u001b[0m\u001b[0mneurons\u001b[0m \u001b[0;34m*\u001b[0m \u001b[0my_train\u001b[0m\u001b[0;34m.\u001b[0m\u001b[0mshape\u001b[0m\u001b[0;34m[\u001b[0m\u001b[0;36m0\u001b[0m\u001b[0;34m]\u001b[0m\u001b[0;34m)\u001b[0m\u001b[0;34m]\u001b[0m\u001b[0;34m\u001b[0m\u001b[0;34m\u001b[0m\u001b[0m\n",
      "\u001b[0;31mTypeError\u001b[0m: optimize() missing 1 required positional argument: 'y_val'"
     ]
    }
   ],
   "source": [
    "lambda_vec = [0]\n",
    "error_train = np.zeros(len(lambda_vec))\n",
    "error_val = np.zeros(len(lambda_vec))\n",
    "init_theta = dus_mm.theta\n",
    "\n",
    "for i in range(len(lambda_vec)):\n",
    "  dus_mm.theta = init_theta.copy()\n",
    "  dus_mm.optimize(X_train, y_train, lambda_vec[i]) \n",
    "  a_out = dus_mm.feedforward(X_train)\n",
    "  a_end = a_out[:(dus_mm.sequential[-1].neurons * y_train.shape[0])]\n",
    "  error_train[i] = dus_mm.compute_loss(a_end, y_train)\n",
    "  \n",
    "  a_out = dus_mm.feedforward(X_val)\n",
    "  a_end = a_out[:(dus_mm.sequential[-1].neurons * y_val.shape[0])]\n",
    "  error_val[i] = dus_mm.compute_loss(a_end, y_val)"
   ]
  },
  {
   "cell_type": "code",
   "execution_count": null,
   "metadata": {
    "colab": {
     "base_uri": "https://localhost:8080/",
     "height": 314
    },
    "executionInfo": {
     "elapsed": 683,
     "status": "ok",
     "timestamp": 1624103312632,
     "user": {
      "displayName": "Maxim Tabolin",
      "photoUrl": "",
      "userId": "11591994697218843812"
     },
     "user_tz": -180
    },
    "id": "1ooG5v7kwwDB",
    "outputId": "ee82d062-8885-4898-b558-72c3de153aae"
   },
   "outputs": [
    {
     "name": "stdout",
     "output_type": "stream",
     "text": [
      "lambda\t\tTrain Error\tValidation Error\n",
      " 0.000000\t49.380953\t58.266060\n"
     ]
    },
    {
     "data": {
      "image/png": "[encoded data removed]",
      "text/plain": [
       "<Figure size 432x288 with 1 Axes>"
      ]
     },
     "metadata": {
      "tags": []
     },
     "output_type": "display_data"
    }
   ],
   "source": [
    "plt.plot(lambda_vec, error_train, '-o', lambda_vec, error_val, '-o', lw=2)\n",
    "plt.legend(['Train', 'Cross Validation'])\n",
    "plt.xlabel('lambda')\n",
    "plt.ylabel('Error')\n",
    "\n",
    "print('lambda\\t\\tTrain Error\\tValidation Error')\n",
    "for i in range(len(lambda_vec)):\n",
    "    print(' %f\\t%f\\t%f' % (lambda_vec[i], error_train[i], error_val[i]))"
   ]
  },
  {
   "cell_type": "code",
   "execution_count": null,
   "metadata": {
    "id": "w9V2WwqAsUNG"
   },
   "outputs": [],
   "source": [
    "a_out = dus_mm.feedforward(X_val)\n",
    "a_end = a_out[:(dus_mm.sequential[-1].neurons * y_val.shape[0])]\n",
    "loss = dus_mm.compute_loss(a_end, y_val.ravel())"
   ]
  },
  {
   "cell_type": "code",
   "execution_count": null,
   "metadata": {
    "colab": {
     "base_uri": "https://localhost:8080/"
    },
    "executionInfo": {
     "elapsed": 13,
     "status": "ok",
     "timestamp": 1624012838685,
     "user": {
      "displayName": "Maxim Tabolin",
      "photoUrl": "",
      "userId": "11591994697218843812"
     },
     "user_tz": -180
    },
    "id": "Tz0CxjXutF0U",
    "outputId": "7bfb0103-30ae-49e4-8bb4-bbe5d4fef79c"
   },
   "outputs": [
    {
     "data": {
      "text/plain": [
       "9.15514514900138"
      ]
     },
     "execution_count": 241,
     "metadata": {
      "tags": []
     },
     "output_type": "execute_result"
    }
   ],
   "source": [
    "loss"
   ]
  },
  {
   "cell_type": "code",
   "execution_count": null,
   "metadata": {
    "colab": {
     "base_uri": "https://localhost:8080/"
    },
    "executionInfo": {
     "elapsed": 263,
     "status": "ok",
     "timestamp": 1624102903574,
     "user": {
      "displayName": "Maxim Tabolin",
      "photoUrl": "",
      "userId": "11591994697218843812"
     },
     "user_tz": -180
    },
    "id": "ds0ZnyYY2fQf",
    "outputId": "639854ca-3d05-4070-f970-84e76f980308"
   },
   "outputs": [
    {
     "data": {
      "text/plain": [
       "array([[ 0.,  4.,  0.,  2.,  0.,  0., 14.,  0.,  0., 12.,  8.,  0.]])"
      ]
     },
     "execution_count": 367,
     "metadata": {
      "tags": []
     },
     "output_type": "execute_result"
    }
   ],
   "source": [
    "y[300:301]"
   ]
  },
  {
   "cell_type": "code",
   "execution_count": null,
   "metadata": {
    "colab": {
     "base_uri": "https://localhost:8080/"
    },
    "executionInfo": {
     "elapsed": 270,
     "status": "ok",
     "timestamp": 1624132469945,
     "user": {
      "displayName": "Maxim Tabolin",
      "photoUrl": "",
      "userId": "11591994697218843812"
     },
     "user_tz": -180
    },
    "id": "Hi2eYwrJ6mqR",
    "outputId": "c95ad628-9ebf-4130-eedc-9887d2018453"
   },
   "outputs": [
    {
     "data": {
      "text/plain": [
       "array([ 0.,  4.,  0.,  1.,  2.,  0., 14.,  0.,  0., 12.,  8.,  0.])"
      ]
     },
     "execution_count": 174,
     "metadata": {
      "tags": []
     },
     "output_type": "execute_result"
    }
   ],
   "source": [
    "np.round(dus_mm.feedforward(np.array(X[300:301]))[:12])"
   ]
  },
  {
   "cell_type": "code",
   "execution_count": null,
   "metadata": {
    "id": "4d340da8"
   },
   "outputs": [],
   "source": [
    "import scipy.io\n",
    "mat = scipy.io.loadmat('mnist.mat')\n",
    "X = mat['X']\n",
    "y = mat['y']\n",
    "y[y == 10] = 0\n",
    "y0 = np.zeros((y.size, 10))\n",
    "for i in range(y.shape[0]):\n",
    "    y0[i,y[i]] = 1"
   ]
  },
  {
   "cell_type": "code",
   "execution_count": null,
   "metadata": {
    "id": "12bcac3f"
   },
   "outputs": [],
   "source": [
    "dus_mm = NN_model(X.shape[1], 'loglos')\n",
    "dus_mm.add(Layer(128, 'sigmoid'))\n",
    "dus_mm.add(Layer(128, 'sigmoid'))\n",
    "dus_mm.add(Layer(y0.shape[1], 'sigmoid'))"
   ]
  },
  {
   "cell_type": "code",
   "execution_count": null,
   "metadata": {
    "id": "9V8Pu3j0awY0"
   },
   "outputs": [],
   "source": [
    "X = np.array(X)\n",
    "y = np.array(y)\n",
    "lst =  np.arange(y.shape[0])\n",
    "np.random.shuffle(lst)\n",
    "split_data = int(0.8 * y.shape[0])\n",
    "\n",
    "X_train = X[lst[:split_data]]\n",
    "y_train = y[lst[:split_data]]\n",
    "X_val = X[lst[split_data:y.shape[0]]]\n",
    "y_val = y[lst[split_data:y.shape[0]]]"
   ]
  },
  {
   "cell_type": "code",
   "execution_count": null,
   "metadata": {
    "colab": {
     "base_uri": "https://localhost:8080/",
     "height": 417
    },
    "executionInfo": {
     "elapsed": 7408,
     "status": "error",
     "timestamp": 1624208248247,
     "user": {
      "displayName": "Maxim Tabolin",
      "photoUrl": "",
      "userId": "11591994697218843812"
     },
     "user_tz": -180
    },
    "id": "2474c593",
    "outputId": "9de44b5a-68d7-4a8d-c139-52f1c1027fb6",
    "scrolled": true
   },
   "outputs": [
    {
     "name": "stderr",
     "output_type": "stream",
     "text": [
      "/usr/local/lib/python3.7/dist-packages/ipykernel_launcher.py:118: RuntimeWarning: divide by zero encountered in true_divide\n",
      "/usr/local/lib/python3.7/dist-packages/ipykernel_launcher.py:118: RuntimeWarning: invalid value encountered in true_divide\n",
      "/usr/local/lib/python3.7/dist-packages/ipykernel_launcher.py:82: RuntimeWarning: invalid value encountered in multiply\n"
     ]
    },
    {
     "name": "stdout",
     "output_type": "stream",
     "text": [
      "nan    nan\n"
     ]
    },
    {
     "ename": "KeyboardInterrupt",
     "evalue": "ignored",
     "output_type": "error",
     "traceback": [
      "\u001b[0;31m---------------------------------------------------------------------------\u001b[0m",
      "\u001b[0;31mKeyboardInterrupt\u001b[0m                         Traceback (most recent call last)",
      "\u001b[0;32m<ipython-input-23-11dcce90895c>\u001b[0m in \u001b[0;36m<module>\u001b[0;34m()\u001b[0m\n\u001b[0;32m----> 1\u001b[0;31m \u001b[0mdus_mm\u001b[0m\u001b[0;34m.\u001b[0m\u001b[0moptimize\u001b[0m\u001b[0;34m(\u001b[0m\u001b[0mX_train\u001b[0m\u001b[0;34m,\u001b[0m \u001b[0my_train\u001b[0m\u001b[0;34m,\u001b[0m \u001b[0mX_val\u001b[0m\u001b[0;34m,\u001b[0m \u001b[0my_val\u001b[0m \u001b[0;34m)\u001b[0m\u001b[0;34m\u001b[0m\u001b[0;34m\u001b[0m\u001b[0m\n\u001b[0m",
      "\u001b[0;32m<ipython-input-18-61f773c3b443>\u001b[0m in \u001b[0;36moptimize\u001b[0;34m(self, X_train, y_train, X_val, y_val, lambda_new)\u001b[0m\n\u001b[1;32m    170\u001b[0m                 \u001b[0myi\u001b[0m \u001b[0;34m=\u001b[0m \u001b[0my_train\u001b[0m\u001b[0;34m[\u001b[0m\u001b[0mchunk\u001b[0m\u001b[0;34m]\u001b[0m\u001b[0;34m\u001b[0m\u001b[0;34m\u001b[0m\u001b[0m\n\u001b[1;32m    171\u001b[0m                 \u001b[0ma_out\u001b[0m \u001b[0;34m=\u001b[0m \u001b[0mself\u001b[0m\u001b[0;34m.\u001b[0m\u001b[0mfeedforward\u001b[0m\u001b[0;34m(\u001b[0m\u001b[0mxi\u001b[0m\u001b[0;34m,\u001b[0m \u001b[0mtheta_new\u001b[0m\u001b[0;34m)\u001b[0m\u001b[0;34m\u001b[0m\u001b[0;34m\u001b[0m\u001b[0m\n\u001b[0;32m--> 172\u001b[0;31m                 \u001b[0mgrad\u001b[0m \u001b[0;34m=\u001b[0m \u001b[0mself\u001b[0m\u001b[0;34m.\u001b[0m\u001b[0mbackprop\u001b[0m\u001b[0;34m(\u001b[0m\u001b[0ma_out\u001b[0m\u001b[0;34m,\u001b[0m \u001b[0myi\u001b[0m\u001b[0;34m,\u001b[0m \u001b[0mtheta_new\u001b[0m\u001b[0;34m)\u001b[0m\u001b[0;34m\u001b[0m\u001b[0;34m\u001b[0m\u001b[0m\n\u001b[0m\u001b[1;32m    173\u001b[0m                 \u001b[0;32mif\u001b[0m \u001b[0;34m(\u001b[0m\u001b[0mself\u001b[0m\u001b[0;34m.\u001b[0m\u001b[0moptimizer\u001b[0m \u001b[0;34m==\u001b[0m \u001b[0;34m'adam'\u001b[0m\u001b[0;34m)\u001b[0m\u001b[0;34m:\u001b[0m\u001b[0;34m\u001b[0m\u001b[0;34m\u001b[0m\u001b[0m\n\u001b[1;32m    174\u001b[0m                     \u001b[0;31m#Ti = 0.1 *\u001b[0m\u001b[0;34m\u001b[0m\u001b[0;34m\u001b[0m\u001b[0;34m\u001b[0m\u001b[0m\n",
      "\u001b[0;32m<ipython-input-18-61f773c3b443>\u001b[0m in \u001b[0;36mbackprop\u001b[0;34m(self, a_out, y, theta_new)\u001b[0m\n\u001b[1;32m     82\u001b[0m                 \u001b[0mdelta\u001b[0m \u001b[0;34m=\u001b[0m \u001b[0mself\u001b[0m\u001b[0;34m.\u001b[0m\u001b[0mcompute_loss\u001b[0m\u001b[0;34m(\u001b[0m\u001b[0ma_out\u001b[0m\u001b[0;34m,\u001b[0m \u001b[0my\u001b[0m\u001b[0;34m,\u001b[0m \u001b[0mdiff\u001b[0m \u001b[0;34m=\u001b[0m \u001b[0;32mTrue\u001b[0m\u001b[0;34m)\u001b[0m \u001b[0;34m*\u001b[0m \u001b[0mself\u001b[0m\u001b[0;34m.\u001b[0m\u001b[0mactivation\u001b[0m\u001b[0;34m(\u001b[0m\u001b[0mlayer1\u001b[0m\u001b[0;34m,\u001b[0m \u001b[0mnp\u001b[0m\u001b[0;34m.\u001b[0m\u001b[0mdot\u001b[0m\u001b[0;34m(\u001b[0m\u001b[0ma2\u001b[0m\u001b[0;34m,\u001b[0m \u001b[0mtheta2\u001b[0m\u001b[0;34m.\u001b[0m\u001b[0mT\u001b[0m\u001b[0;34m)\u001b[0m\u001b[0;34m,\u001b[0m \u001b[0mdiff\u001b[0m \u001b[0;34m=\u001b[0m \u001b[0;32mTrue\u001b[0m\u001b[0;34m)\u001b[0m\u001b[0;34m\u001b[0m\u001b[0;34m\u001b[0m\u001b[0m\n\u001b[1;32m     83\u001b[0m             \u001b[0;32melse\u001b[0m\u001b[0;34m:\u001b[0m\u001b[0;34m\u001b[0m\u001b[0;34m\u001b[0m\u001b[0m\n\u001b[0;32m---> 84\u001b[0;31m                 \u001b[0mdelta\u001b[0m \u001b[0;34m=\u001b[0m \u001b[0mnp\u001b[0m\u001b[0;34m.\u001b[0m\u001b[0mdot\u001b[0m\u001b[0;34m(\u001b[0m\u001b[0mdelta\u001b[0m\u001b[0;34m,\u001b[0m \u001b[0mtheta1\u001b[0m\u001b[0;34m[\u001b[0m\u001b[0;34m:\u001b[0m\u001b[0;34m,\u001b[0m\u001b[0;36m1\u001b[0m\u001b[0;34m:\u001b[0m\u001b[0;34m]\u001b[0m\u001b[0;34m)\u001b[0m \u001b[0;34m*\u001b[0m \u001b[0mself\u001b[0m\u001b[0;34m.\u001b[0m\u001b[0mactivation\u001b[0m\u001b[0;34m(\u001b[0m\u001b[0mlayer1\u001b[0m\u001b[0;34m,\u001b[0m \u001b[0mnp\u001b[0m\u001b[0;34m.\u001b[0m\u001b[0mdot\u001b[0m\u001b[0;34m(\u001b[0m\u001b[0ma2\u001b[0m\u001b[0;34m,\u001b[0m \u001b[0mtheta2\u001b[0m\u001b[0;34m.\u001b[0m\u001b[0mT\u001b[0m\u001b[0;34m)\u001b[0m\u001b[0;34m,\u001b[0m \u001b[0mdiff\u001b[0m \u001b[0;34m=\u001b[0m \u001b[0;32mTrue\u001b[0m\u001b[0;34m)\u001b[0m\u001b[0;34m\u001b[0m\u001b[0;34m\u001b[0m\u001b[0m\n\u001b[0m\u001b[1;32m     85\u001b[0m             \u001b[0mgrad\u001b[0m \u001b[0;34m=\u001b[0m \u001b[0mnp\u001b[0m\u001b[0;34m.\u001b[0m\u001b[0mhstack\u001b[0m\u001b[0;34m(\u001b[0m\u001b[0;34m[\u001b[0m\u001b[0mnp\u001b[0m\u001b[0;34m.\u001b[0m\u001b[0mdot\u001b[0m\u001b[0;34m(\u001b[0m\u001b[0mdelta\u001b[0m\u001b[0;34m.\u001b[0m\u001b[0mT\u001b[0m\u001b[0;34m,\u001b[0m \u001b[0ma2\u001b[0m\u001b[0;34m)\u001b[0m\u001b[0;34m.\u001b[0m\u001b[0mravel\u001b[0m\u001b[0;34m(\u001b[0m\u001b[0;34m)\u001b[0m\u001b[0;34m,\u001b[0m \u001b[0mgrad\u001b[0m\u001b[0;34m]\u001b[0m\u001b[0;34m)\u001b[0m\u001b[0;34m\u001b[0m\u001b[0;34m\u001b[0m\u001b[0m\n\u001b[1;32m     86\u001b[0m \u001b[0;34m\u001b[0m\u001b[0m\n",
      "\u001b[0;32m<__array_function__ internals>\u001b[0m in \u001b[0;36mdot\u001b[0;34m(*args, **kwargs)\u001b[0m\n",
      "\u001b[0;31mKeyboardInterrupt\u001b[0m: "
     ]
    }
   ],
   "source": [
    "dus_mm.optimize(X_train, y_train, X_val, y_val )"
   ]
  },
  {
   "cell_type": "code",
   "execution_count": null,
   "metadata": {
    "colab": {
     "base_uri": "https://localhost:8080/"
    },
    "executionInfo": {
     "elapsed": 444,
     "status": "ok",
     "timestamp": 1624207076658,
     "user": {
      "displayName": "Maxim Tabolin",
      "photoUrl": "",
      "userId": "11591994697218843812"
     },
     "user_tz": -180
    },
    "id": "617622ac",
    "outputId": "9f9cffa9-80c2-42b2-b25d-ff293a2ecbd6"
   },
   "outputs": [
    {
     "data": {
      "text/plain": [
       "array([0.86022436, 0.90403858, 0.90021411, 0.90532145, 0.90544177,\n",
       "       0.9029935 , 0.90745175, 0.90001685, 0.86896561, 0.90270247])"
      ]
     },
     "execution_count": 9,
     "metadata": {
      "tags": []
     },
     "output_type": "execute_result"
    }
   ],
   "source": [
    "dus_mm.feedforward(X[600:601,:])[:10]"
   ]
  },
  {
   "cell_type": "code",
   "execution_count": null,
   "metadata": {
    "colab": {
     "base_uri": "https://localhost:8080/"
    },
    "executionInfo": {
     "elapsed": 361,
     "status": "ok",
     "timestamp": 1624175983456,
     "user": {
      "displayName": "Maxim Tabolin",
      "photoUrl": "",
      "userId": "11591994697218843812"
     },
     "user_tz": -180
    },
    "id": "16463c06",
    "outputId": "93af2bc9-5da6-4ea6-d854-54f3faca9c7d"
   },
   "outputs": [
    {
     "data": {
      "text/plain": [
       "array([0., 1., 0., 0., 0., 0., 0., 0., 0., 0.])"
      ]
     },
     "execution_count": 12,
     "metadata": {
      "tags": []
     },
     "output_type": "execute_result"
    }
   ],
   "source": [
    "y0[600]"
   ]
  },
  {
   "cell_type": "code",
   "execution_count": null,
   "metadata": {
    "id": "b1567a10"
   },
   "outputs": [],
   "source": [
    " a = [1,2,3]"
   ]
  },
  {
   "cell_type": "code",
   "execution_count": null,
   "metadata": {
    "id": "a70f9768",
    "outputId": "08b14733-3d63-4dc7-a05a-ba87e54fc48d"
   },
   "outputs": [
    {
     "data": {
      "text/plain": [
       "array([[0., 0., 0., ..., 0., 0., 0.],\n",
       "       [0., 0., 0., ..., 0., 0., 0.],\n",
       "       [0., 0., 0., ..., 0., 0., 0.],\n",
       "       ...,\n",
       "       [0., 0., 0., ..., 0., 0., 0.],\n",
       "       [0., 0., 0., ..., 0., 0., 0.],\n",
       "       [0., 0., 0., ..., 0., 0., 0.]])"
      ]
     },
     "execution_count": 134,
     "metadata": {
      "tags": []
     },
     "output_type": "execute_result"
    }
   ],
   "source": [
    "X"
   ]
  }
 ],
 "metadata": {
  "colab": {
   "name": "neural_network.ipynb",
   "version": ""
  },
  "kernelspec": {
   "display_name": "Python 3",
   "language": "python",
   "name": "python3"
  },
  "language_info": {
   "codemirror_mode": {
    "name": "ipython",
    "version": 3
   },
   "file_extension": ".py",
   "mimetype": "text/x-python",
   "name": "python",
   "nbconvert_exporter": "python",
   "pygments_lexer": "ipython3",
   "version": "3.8.5"
  }
 },
 "nbformat": 4,
 "nbformat_minor": 5
}
