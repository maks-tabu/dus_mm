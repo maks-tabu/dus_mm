{
 "cells": [
  {
   "cell_type": "code",
   "execution_count": 118,
   "id": "91e9605d",
   "metadata": {
    "colab": {
     "base_uri": "https://localhost:8080/"
    },
    "executionInfo": {
     "elapsed": 22278,
     "status": "ok",
     "timestamp": 1622698525801,
     "user": {
      "displayName": "Maxim Tabolin",
      "photoUrl": "",
      "userId": "11591994697218843812"
     },
     "user_tz": -180
    },
    "id": "57333554",
    "outputId": "10e92f34-6eac-4e2a-c221-71f4e86f8c06"
   },
   "outputs": [
    {
     "ename": "FileNotFoundError",
     "evalue": "[Errno 2] No such file or directory: 'data'",
     "output_type": "error",
     "traceback": [
      "\u001b[0;31m---------------------------------------------------------------------------\u001b[0m",
      "\u001b[0;31mFileNotFoundError\u001b[0m                         Traceback (most recent call last)",
      "\u001b[0;32m<ipython-input-118-4c46bcf105d0>\u001b[0m in \u001b[0;36m<module>\u001b[0;34m\u001b[0m\n\u001b[1;32m     10\u001b[0m \u001b[0;32mfrom\u001b[0m \u001b[0mmatplotlib\u001b[0m \u001b[0;32mimport\u001b[0m \u001b[0mpyplot\u001b[0m \u001b[0;32mas\u001b[0m \u001b[0mplt\u001b[0m\u001b[0;34m\u001b[0m\u001b[0;34m\u001b[0m\u001b[0m\n\u001b[1;32m     11\u001b[0m \u001b[0;32mimport\u001b[0m \u001b[0mseaborn\u001b[0m \u001b[0;32mas\u001b[0m \u001b[0msb\u001b[0m\u001b[0;34m\u001b[0m\u001b[0;34m\u001b[0m\u001b[0m\n\u001b[0;32m---> 12\u001b[0;31m \u001b[0mos\u001b[0m\u001b[0;34m.\u001b[0m\u001b[0mchdir\u001b[0m\u001b[0;34m(\u001b[0m\u001b[0;34m'data'\u001b[0m\u001b[0;34m)\u001b[0m\u001b[0;34m\u001b[0m\u001b[0;34m\u001b[0m\u001b[0m\n\u001b[0m\u001b[1;32m     13\u001b[0m \u001b[0;34m\u001b[0m\u001b[0m\n\u001b[1;32m     14\u001b[0m \u001b[0mcolumnsX\u001b[0m \u001b[0;34m=\u001b[0m \u001b[0;34m[\u001b[0m\u001b[0;34m'freq'\u001b[0m\u001b[0;34m,\u001b[0m\u001b[0;34m'AX'\u001b[0m\u001b[0;34m,\u001b[0m\u001b[0;34m'BX'\u001b[0m\u001b[0;34m,\u001b[0m\u001b[0;34m'BY'\u001b[0m\u001b[0;34m,\u001b[0m\u001b[0;34m'CY'\u001b[0m\u001b[0;34m,\u001b[0m\u001b[0;34m'CX'\u001b[0m\u001b[0;34m,\u001b[0m\u001b[0;34m'DX'\u001b[0m\u001b[0;34m,\u001b[0m\u001b[0;34m'DY'\u001b[0m\u001b[0;34m,\u001b[0m\u001b[0;34m'AY'\u001b[0m\u001b[0;34m]\u001b[0m\u001b[0;34m\u001b[0m\u001b[0;34m\u001b[0m\u001b[0m\n",
      "\u001b[0;31mFileNotFoundError\u001b[0m: [Errno 2] No such file or directory: 'data'"
     ]
    }
   ],
   "source": [
    "import os\n",
    "#from google.colab import drive\n",
    "#drive.mount('/content/drive')\n",
    "#os.chdir('/content/drive/MyDrive/Github/dus_mm/')\n",
    "import numpy as np\n",
    "import pandas as pd\n",
    "import utils\n",
    "import glob\n",
    "\n",
    "from matplotlib import pyplot as plt\n",
    "import seaborn as sb\n",
    "os.chdir('data')\n",
    "\n",
    "columnsX = ['freq','AX','BX','BY','CY','CX','DX','DY','AY']\n",
    "columnsY = ['AX','BX','BY','CY','CX','DX','DY','AY','AQ','AL','BQ','BL','CQ','CL','DQ','DL']\n",
    "columnsYout = ['AQ','AL','BQ','BL','CQ','CL','DQ','DL','X','Y','Q','L']"
   ]
  },
  {
   "cell_type": "code",
   "execution_count": 184,
   "id": "1a3f18f9",
   "metadata": {
    "executionInfo": {
     "elapsed": 3644,
     "status": "ok",
     "timestamp": 1622699009319,
     "user": {
      "displayName": "Maxim Tabolin",
      "photoUrl": "",
      "userId": "11591994697218843812"
     },
     "user_tz": -180
    },
    "id": "C_KWQPtQZY-L"
   },
   "outputs": [],
   "source": [
    "X = pd.DataFrame()\n",
    "y = pd.DataFrame()\n",
    "numb_files = len(glob.glob('data_output*'))\n",
    "for i in glob.glob('data_output*'): \n",
    "    numb = i[11]\n",
    "    if (numb == 'data_output.txt'):\n",
    "        numb = ''\n",
    "    y = pd.concat([y,pd.read_table(os.path.join('data_output%s.txt' % numb), header = 0, names = columnsY, \n",
    "                                   index_col = False, sep='\\s+', engine='python', dtype ='float')], ignore_index = 1)\n",
    "    X = pd.concat([X,pd.read_table(os.path.join('data_input%s.txt' % numb), header = 0, names = columnsX, \n",
    "                                   index_col = False, sep='\\s+', engine='python', dtype =\"float\")], ignore_index = 1)\n",
    "X = X.loc[:100*4+3]\n",
    "y = y.loc[:100]\n",
    "X = utils.init_in(X)\n",
    "y = utils.decomposition(y)"
   ]
  },
  {
   "cell_type": "code",
   "execution_count": 4,
   "id": "63666d57",
   "metadata": {
    "executionInfo": {
     "elapsed": 223,
     "status": "ok",
     "timestamp": 1622709178308,
     "user": {
      "displayName": "Maxim Tabolin",
      "photoUrl": "",
      "userId": "11591994697218843812"
     },
     "user_tz": -180
    },
    "id": "7GvxIsNBZyow"
   },
   "outputs": [],
   "source": [
    "class Layer():\n",
    "    def __init__(self, neurons: int = 256, activation: str = 'linear'):\n",
    "        self.neurons = neurons\n",
    "        self.activation = activation"
   ]
  },
  {
   "cell_type": "code",
   "execution_count": 171,
   "id": "5e26a390",
   "metadata": {
    "code_folding": [],
    "executionInfo": {
     "elapsed": 342,
     "status": "ok",
     "timestamp": 1622711402216,
     "user": {
      "displayName": "Maxim Tabolin",
      "photoUrl": "",
      "userId": "11591994697218843812"
     },
     "user_tz": -180
    },
    "id": "pEAJnCW6asSZ"
   },
   "outputs": [],
   "source": [
    "class NN_model():\n",
    "  \n",
    "    def __init__(self, input_dimension: int):\n",
    "        self.sequential = [Layer(input_dimension)]\n",
    "        self.theta = np.array([])\n",
    "        self.loss = 'mean_squared_error'\n",
    "        self.optimizer = 'grad_descent' #'adam'\n",
    "        self.num_iterations = 200\n",
    "        self.beta_1 = 0.9\n",
    "        self.beta_2 = 0.9\n",
    "        self.epsilon = 0.01\n",
    "        self.step_size = 0.1\n",
    "\n",
    "    def add(self, layer: Layer):\n",
    "        self.sequential.append(layer)\n",
    "        layer_in = self.sequential[-2]\n",
    "        layer_out = self.sequential[-1]\n",
    "        gamma = np.sqrt(6)/np.sqrt(layer_in.neurons + layer_out.neurons)\n",
    "        init_theta = np.random.rand(layer_out.neurons,layer_in.neurons + 1) * 2 * gamma - gamma\n",
    "        self.theta = np.hstack([self.theta, init_theta.ravel()])\n",
    "\n",
    "    def activation(self, layer: Layer, x, diff: bool = False):\n",
    "        if (layer.activation == 'relu'):\n",
    "            if (diff == True):\n",
    "                x[x >= 0] = 1\n",
    "                x[x < 0] = 0\n",
    "            else:\n",
    "                x[x < 0] = 0\n",
    "        elif (layer.activation == 'linear'):\n",
    "            if (diff == True):\n",
    "                x = 1\n",
    "            else:\n",
    "                x = x\n",
    "        elif (layer.activation == 'sigmoid'):\n",
    "            if (diff == True):\n",
    "                x = self.activation(layer, x) * (1 - self.activation(layer, x))\n",
    "            else:\n",
    "                x = 1/(1 + np.exp(-x))\n",
    "        return x\n",
    "\n",
    "    def feedforward(self, x):\n",
    "        a = x\n",
    "        a_out = np.array(a.ravel())\n",
    "        slice_theta1 = 0\n",
    "        for i in range(1, len(self.sequential)):\n",
    "            layer1 = self.sequential[i - 1]\n",
    "            layer2 = self.sequential[i]\n",
    "            slice_theta2 = slice_theta1 + (layer1.neurons + 1) * layer2.neurons\n",
    "            \n",
    "            theta1 = self.theta[slice_theta1:slice_theta2].reshape(layer2.neurons, layer1.neurons + 1)\n",
    "            z = np.dot(np.concatenate((np.ones([a.shape[0],1]), a), axis = 1), theta1.T)\n",
    "            a = self.activation(layer2, z)\n",
    "            a_out = np.hstack([a.ravel(), a_out])\n",
    "            slice_theta1 = slice_theta2\n",
    "        return a_out\n",
    "\n",
    "    def backprop(self, a_out, y): \n",
    "        grad_out = np.array([])\n",
    "        slice_theta1 = 0\n",
    "        slice_a1 = 0\n",
    "        for i in range(1, len(self.sequential)):\n",
    "            layer1 = self.sequential[-i]\n",
    "            layer2 = self.sequential[-(i + 1)]\n",
    "            slice_theta2 = slice_theta1 + layer1.neurons * (layer2.neurons + 1)\n",
    "            slice_a2 = slice_a1 + layer1.neurons * y.shape[0]\n",
    "            slice_a3 = slice_a2 + layer2.neurons * y.shape[0]           \n",
    "            a1 = a_out[slice_a1:slice_a2].reshape((y.shape[0], layer1.neurons))\n",
    "            a2 = a_out[slice_a2:slice_a3].reshape((y.shape[0], layer2.neurons))\n",
    "            a2 = np.concatenate((np.ones([a2.shape[0], 1]), a2), axis = 1)\n",
    "            theta2 = np.flip(self.theta)[slice_theta1:slice_theta2].reshape(layer1.neurons, layer2.neurons + 1)\n",
    "            theta2 = np.flip(theta2)\n",
    "            if (i == 1):\n",
    "                delta = self.compute_loss(a1, y, diff = True) * self.activation(layer1, np.dot(a2, theta2.T), diff = True)\n",
    "            else:\n",
    "                delta = np.dot(delta, theta1[:,1:]) * self.activation(layer1, np.dot(a2, theta2.T), diff = True)  \n",
    "            grad = (1/y.shape[0]) * np.dot(delta.T, a2)\n",
    "            grad_out = np.hstack([grad.ravel(), grad_out])\n",
    "            \n",
    "            theta1 = theta2  \n",
    "            slice_theta1 = slice_theta2\n",
    "            slice_a1 = slice_a2\n",
    "        return grad_out\n",
    "\n",
    "    def compute_loss(self, a_end, y, diff: bool = False):\n",
    "        if (self.loss == 'mean_squared_error'):\n",
    "            if (diff == True):\n",
    "                loss = (a_end - y)\n",
    "            else:\n",
    "                loss = np.sum(np.power((a_end - y), 2))/(2 * y.size)\n",
    "        elif (self.loss == 'loglos'):\n",
    "            if (diff == True):\n",
    "                loss = (a_end - y)/((1 - a_end) * a_end)\n",
    "            else:\n",
    "                loss = - np.sum(y * np.log(a_end) + (1 - y) * np.log(1 - a_end))/y.shape[0]\n",
    "        return loss\n",
    "        \n",
    "    def optimize(self, x, y):\n",
    "        x = np.array(x)\n",
    "        y = np.array(y)\n",
    "        if (self.optimizer == 'adam'):\n",
    "            m = np.zeros(self.theta.shape)\n",
    "            v = np.zeros(self.theta.shape)\n",
    "            for t in range(1,self.num_iterations + 1):\n",
    "                a_out = self.feedforward(x)\n",
    "                a_end = a_out[:(self.sequential[-1].neurons * y.shape[0])]\n",
    "                loss = self.compute_loss(a_end, y.ravel())\n",
    "                grad = self.backprop(a_out, y)\n",
    "                m = self.beta_1 * m + (1 - self.beta_1) * grad\n",
    "                v = self.beta_2 * v + (1 - self.beta_2) * np.power(grad, 2)\n",
    "                m_hat = m / (1 - np.power(self.beta_1, t))\n",
    "                v_hat = v / (1 - np.power(self.beta_2, t))\n",
    "                self.theta = self.theta - self.step_size * m_hat / (np.sqrt(v_hat) + self.epsilon)\n",
    "                print(loss)\n",
    "        if (self.optimizer == 'grad_descent'):\n",
    "            for t in range(1,self.num_iterations + 1):\n",
    "                a_out = self.feedforward(x)\n",
    "                a_end = a_out[:(self.sequential[-1].neurons * y.shape[0])]\n",
    "                loss = self.compute_loss(a_end,y.ravel())\n",
    "                grad = self.backprop(a_out, y)\n",
    "                self.theta = self.theta - self.step_size * grad\n",
    "                print(loss)\n",
    "                    \n",
    "    def __repr__(self):\n",
    "        return str(len(self.sequential))\n"
   ]
  },
  {
   "cell_type": "code",
   "execution_count": 185,
   "id": "fa38a8e6",
   "metadata": {
    "executionInfo": {
     "elapsed": 7,
     "status": "ok",
     "timestamp": 1622711403386,
     "user": {
      "displayName": "Maxim Tabolin",
      "photoUrl": "",
      "userId": "11591994697218843812"
     },
     "user_tz": -180
    },
    "id": "6Sw-LVFnbkr0"
   },
   "outputs": [],
   "source": [
    "dus_mm = NN_model(X.shape[1])\n",
    "dus_mm.add(Layer(64, 'relu'))\n",
    "dus_mm.add(Layer(64, 'relu'))\n",
    "dus_mm.add(Layer(64, 'relu'))\n",
    "dus_mm.add(Layer(y.shape[1], 'linear'))"
   ]
  },
  {
   "cell_type": "code",
   "execution_count": 186,
   "id": "9a92838c",
   "metadata": {
    "scrolled": true
   },
   "outputs": [
    {
     "name": "stdout",
     "output_type": "stream",
     "text": [
      "48.883097212885716\n",
      "37.74385699825497\n",
      "530458.4916068681\n",
      "37342067006.47152\n",
      "5.0713678283669444e+67\n",
      "6.814918977392284e+279\n",
      "inf\n",
      "nan\n",
      "nan\n",
      "nan\n",
      "nan\n",
      "nan\n",
      "nan\n",
      "nan\n",
      "nan\n",
      "nan\n",
      "nan\n",
      "nan\n",
      "nan\n",
      "nan\n",
      "nan\n",
      "nan\n",
      "nan\n",
      "nan\n",
      "nan\n",
      "nan\n",
      "nan\n",
      "nan\n",
      "nan\n",
      "nan\n",
      "nan\n",
      "nan\n",
      "nan\n",
      "nan\n",
      "nan\n",
      "nan\n",
      "nan\n",
      "nan\n",
      "nan\n",
      "nan\n",
      "nan\n",
      "nan\n",
      "nan\n",
      "nan\n",
      "nan\n",
      "nan\n",
      "nan\n",
      "nan\n",
      "nan\n",
      "nan\n",
      "nan\n",
      "nan\n",
      "nan\n",
      "nan\n",
      "nan\n",
      "nan"
     ]
    },
    {
     "name": "stderr",
     "output_type": "stream",
     "text": [
      "<ipython-input-171-37148a4a3c0c>:75: RuntimeWarning: invalid value encountered in multiply\n",
      "  delta = np.dot(delta, theta1[:,1:]) * self.activation(layer1, np.dot(a2, theta2.T), diff = True)\n"
     ]
    },
    {
     "name": "stdout",
     "output_type": "stream",
     "text": [
      "\n",
      "nan\n",
      "nan\n",
      "nan\n",
      "nan\n",
      "nan\n",
      "nan\n",
      "nan\n",
      "nan\n",
      "nan\n",
      "nan\n",
      "nan\n",
      "nan\n",
      "nan\n",
      "nan\n",
      "nan\n",
      "nan\n",
      "nan\n",
      "nan\n",
      "nan\n",
      "nan\n",
      "nan\n",
      "nan\n",
      "nan\n",
      "nan\n",
      "nan\n",
      "nan\n",
      "nan\n",
      "nan\n",
      "nan\n",
      "nan\n",
      "nan\n",
      "nan\n",
      "nan\n",
      "nan\n",
      "nan\n",
      "nan\n",
      "nan\n",
      "nan\n",
      "nan\n",
      "nan\n",
      "nan\n",
      "nan\n",
      "nan\n",
      "nan\n",
      "nan\n",
      "nan\n",
      "nan\n",
      "nan\n",
      "nan\n",
      "nan\n",
      "nan\n",
      "nan\n",
      "nan\n",
      "nan\n",
      "nan\n",
      "nan\n",
      "nan\n",
      "nan\n",
      "nan\n",
      "nan\n",
      "nan\n",
      "nan\n",
      "nan\n",
      "nan\n",
      "nan\n",
      "nan\n",
      "nan\n",
      "nan\n",
      "nan\n",
      "nan\n",
      "nan\n",
      "nan\n",
      "nan\n",
      "nan\n",
      "nan\n",
      "nan\n",
      "nan\n",
      "nan\n",
      "nan\n",
      "nan\n",
      "nan\n",
      "nan\n",
      "nan\n",
      "nan\n",
      "nan\n",
      "nan\n",
      "nan\n",
      "nan\n",
      "nan\n",
      "nan\n",
      "nan\n",
      "nan\n",
      "nan\n",
      "nan\n",
      "nan\n",
      "nan\n",
      "nan\n",
      "nan\n",
      "nan\n",
      "nan\n",
      "nan\n",
      "nan\n",
      "nan\n",
      "nan\n",
      "nan\n",
      "nan\n",
      "nan\n",
      "nan\n",
      "nan\n",
      "nan\n",
      "nan\n",
      "nan\n",
      "nan\n",
      "nan\n",
      "nan\n",
      "nan\n",
      "nan\n",
      "nan\n",
      "nan\n",
      "nan\n",
      "nan\n",
      "nan\n",
      "nan\n",
      "nan\n",
      "nan\n",
      "nan\n",
      "nan\n",
      "nan\n",
      "nan\n",
      "nan\n",
      "nan\n",
      "nan\n",
      "nan\n",
      "nan\n",
      "nan\n",
      "nan\n",
      "nan\n",
      "nan\n",
      "nan\n",
      "nan\n",
      "nan\n",
      "nan\n",
      "nan\n",
      "nan\n"
     ]
    }
   ],
   "source": [
    "dus_mm.optimize(X, y)"
   ]
  },
  {
   "cell_type": "code",
   "execution_count": 187,
   "id": "4d340da8",
   "metadata": {},
   "outputs": [],
   "source": [
    "import scipy.io\n",
    "mat = scipy.io.loadmat('mnist.mat')\n",
    "X = mat['X']\n",
    "y = mat['y']\n",
    "y[y == 10] = 0\n",
    "y0 = np.zeros((y.size, 10))\n",
    "for i in range(y.shape[0]):\n",
    "    y0[i,y[i]] = 1"
   ]
  },
  {
   "cell_type": "code",
   "execution_count": 188,
   "id": "12bcac3f",
   "metadata": {},
   "outputs": [],
   "source": [
    "dus_mm = NN_model(X.shape[1])\n",
    "dus_mm.add(Layer(64, 'relu'))\n",
    "dus_mm.add(Layer(64, 'relu'))\n",
    "dus_mm.add(Layer(y0.shape[1], 'relu'))"
   ]
  },
  {
   "cell_type": "code",
   "execution_count": null,
   "id": "2474c593",
   "metadata": {
    "scrolled": true
   },
   "outputs": [
    {
     "name": "stdout",
     "output_type": "stream",
     "text": [
      "0.0402916698216308\n",
      "0.03987291729350936\n",
      "0.03944715236336585\n",
      "0.03902251697403065\n",
      "0.03860815889945111\n",
      "0.03820851080800904\n",
      "0.03782062865058678\n",
      "0.03745091168000823\n",
      "0.0371016096928583\n",
      "0.036771617735910075\n",
      "0.03645542260028445\n",
      "0.03615220377016762\n",
      "0.03585968072816807\n",
      "0.03557729027150622\n",
      "0.035305153509449495\n",
      "0.035043070538496306\n",
      "0.034789210217107486\n",
      "0.03454240580294097\n",
      "0.03430338788449475\n",
      "0.034071377078682775\n",
      "0.03384668972151334\n",
      "0.03362854404311345\n",
      "0.033415417074011036\n",
      "0.03320888915367642\n",
      "0.033008938657654974\n",
      "0.03281454134706558\n",
      "0.03262519759408449\n",
      "0.032441808044796336\n",
      "0.032263667948632176\n",
      "0.03209023487406271\n",
      "0.03192138397212469\n",
      "0.031756943834696114\n",
      "0.03159627739628141\n",
      "0.03143935237998811\n",
      "0.031287183154009995\n",
      "0.031139061142348018\n",
      "0.030994679917121053\n",
      "0.030854401752806463\n",
      "0.030717872453396168\n",
      "0.030584795633864893\n",
      "0.030455027170317592\n",
      "0.030328437785486544\n",
      "0.03020464000681457\n",
      "0.030083917248888037\n",
      "0.029966137685421657\n",
      "0.029850857850001394\n",
      "0.029737944967884504\n",
      "0.029627801174660708\n",
      "0.029520149285874257\n",
      "0.029415265042822356\n",
      "0.029312702729328035\n",
      "0.02921250356744627\n",
      "0.029114689321000434\n",
      "0.029018883499265815\n",
      "0.028925173182051667\n",
      "0.02883366435117893\n",
      "0.028744147011323048\n",
      "0.028656521240157273\n",
      "0.028570685965835473\n",
      "0.028487014110561603\n",
      "0.0284051144496821\n"
     ]
    }
   ],
   "source": [
    "dus_mm.optimize(X, y0)"
   ]
  },
  {
   "cell_type": "code",
   "execution_count": 192,
   "id": "617622ac",
   "metadata": {},
   "outputs": [
    {
     "data": {
      "text/plain": [
       "array([0.        , 0.        , 0.        , 0.10041575, 0.        ,\n",
       "       0.        , 0.        , 0.        , 0.1994442 , 0.        ])"
      ]
     },
     "execution_count": 192,
     "metadata": {},
     "output_type": "execute_result"
    }
   ],
   "source": [
    "dus_mm.feedforward(X[600:601,:])[:10]"
   ]
  },
  {
   "cell_type": "code",
   "execution_count": 183,
   "id": "16463c06",
   "metadata": {},
   "outputs": [
    {
     "data": {
      "text/plain": [
       "array([0., 1., 0., 0., 0., 0., 0., 0., 0., 0.])"
      ]
     },
     "execution_count": 183,
     "metadata": {},
     "output_type": "execute_result"
    }
   ],
   "source": [
    "y0[600]"
   ]
  },
  {
   "cell_type": "code",
   "execution_count": 43,
   "id": "b1567a10",
   "metadata": {},
   "outputs": [],
   "source": [
    " a = [1,2,3]"
   ]
  },
  {
   "cell_type": "code",
   "execution_count": 134,
   "id": "a70f9768",
   "metadata": {},
   "outputs": [
    {
     "data": {
      "text/plain": [
       "array([[0., 0., 0., ..., 0., 0., 0.],\n",
       "       [0., 0., 0., ..., 0., 0., 0.],\n",
       "       [0., 0., 0., ..., 0., 0., 0.],\n",
       "       ...,\n",
       "       [0., 0., 0., ..., 0., 0., 0.],\n",
       "       [0., 0., 0., ..., 0., 0., 0.],\n",
       "       [0., 0., 0., ..., 0., 0., 0.]])"
      ]
     },
     "execution_count": 134,
     "metadata": {},
     "output_type": "execute_result"
    }
   ],
   "source": [
    "X"
   ]
  },
  {
   "cell_type": "code",
   "execution_count": 45,
   "id": "b2500e98",
   "metadata": {},
   "outputs": [
    {
     "data": {
      "text/plain": [
       "array([3, 2, 1])"
      ]
     },
     "execution_count": 45,
     "metadata": {},
     "output_type": "execute_result"
    }
   ],
   "source": [
    "np.flip(a)"
   ]
  }
 ],
 "metadata": {
  "colab": {
   "name": "neural_network.ipynb",
   "provenance": []
  },
  "kernelspec": {
   "display_name": "Python 3",
   "language": "python",
   "name": "python3"
  },
  "language_info": {
   "codemirror_mode": {
    "name": "ipython",
    "version": 3
   },
   "file_extension": ".py",
   "mimetype": "text/x-python",
   "name": "python",
   "nbconvert_exporter": "python",
   "pygments_lexer": "ipython3",
   "version": "3.8.5"
  }
 },
 "nbformat": 4,
 "nbformat_minor": 5
}
