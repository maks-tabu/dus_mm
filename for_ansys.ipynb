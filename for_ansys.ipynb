{
 "cells": [
  {
   "cell_type": "code",
   "execution_count": 1,
   "id": "e687856e",
   "metadata": {},
   "outputs": [],
   "source": [
    "import os\n",
    "import numpy as np\n",
    "import pandas as pd"
   ]
  },
  {
   "cell_type": "code",
   "execution_count": null,
   "id": "33851bec",
   "metadata": {},
   "outputs": [],
   "source": [
    "rand_y = np.abs(np.random.normal(0,10, size = (20000,16)))\n",
    "rand_y = rand_y.round(0)\n",
    "rand_y[rand_y > 28] = 28\n",
    "rand_y = pd.DataFrame(rand_y, columns = ('Ax', 'Bx', 'By', 'Cy', 'Cx', 'Dx', 'Dy', 'Ay', 'AQ', 'AL', 'BQ', 'BL', 'CQ', 'CL', 'DQ', 'DL'))\n",
    "rand_y = rand_y.astype('str')\n",
    "rand_y['Ax'] = 'numb_dele(1) = ' + rand_y['Ax']\n",
    "eof = pd.DataFrame(columns = rand_y.columns)\n",
    "rand_y.loc[1::2] = '/eof'\n",
    "rand_y.to_csv('rand_y.txt',index = False, index_label = False)"
   ]
  },
  {
   "cell_type": "code",
   "execution_count": null,
   "id": "ec99c200",
   "metadata": {},
   "outputs": [],
   "source": [
    "y = pd.read_table(os.path.join('data', 'data_output.txt'),sep='\\s+', engine='python', dtype ='Int64')\n",
    "X = pd.read_table(os.path.join('data', 'data_input.txt'),sep='\\s+', engine='python', dtype =\"Float64\")"
   ]
  },
  {
   "cell_type": "code",
   "execution_count": null,
   "id": "59a6c2c5",
   "metadata": {},
   "outputs": [],
   "source": [
    "ind1_list = []\n",
    "ind2_list = []\n",
    "for i in range(X.shape[0]):\n",
    "    ind1_list.append(i//4) \n",
    "    ind2_list.append(i%4+1)\n",
    "mInd = pd.MultiIndex.from_arrays([ind1_list, ind2_list], names=('number', 'mode'))\n",
    "X.index = mInd"
   ]
  },
  {
   "cell_type": "code",
   "execution_count": null,
   "id": "0934a44d",
   "metadata": {},
   "outputs": [],
   "source": [
    "X = np.abs(X.copy())\n",
    "n1 = X.columns[1:9:2]\n",
    "n2 = X.columns[2:9:2]\n",
    "formula = n1 + n2 + ' = (' + n1 + ' + ' + n2 + ')/2'"
   ]
  },
  {
   "cell_type": "code",
   "execution_count": null,
   "id": "9458fe50",
   "metadata": {},
   "outputs": [],
   "source": [
    "def norm_frez(x):\n",
    "    #x['frez'].iloc[3] = x['frez'].iloc[3] - 14.7  \n",
    "    f_deltamin = x['frez'] - np.min(x['frez'])\n",
    "    f_norm = f_deltamin/np.max(f_deltamin)\n",
    "    x['frez'] = f_norm.round(3)\n",
    "    return x  "
   ]
  },
  {
   "cell_type": "code",
   "execution_count": null,
   "id": "36022ae5",
   "metadata": {},
   "outputs": [],
   "source": [
    "X = X.groupby(level = 'number').apply(norm_frez)"
   ]
  },
  {
   "cell_type": "code",
   "execution_count": null,
   "id": "4ec0a07b",
   "metadata": {},
   "outputs": [],
   "source": [
    "for i in range(4): X = X.eval(formula[i]).drop(columns = [n1[i],n2[i]]) \n",
    "X_frez = X.pop('frez')\n",
    "maxval = np.max(X, axis = 1)\n",
    "X = X.divide(maxval, axis = 0, level=1)\n",
    "X = X.round(3)\n",
    "X.insert(0,'frez', X_frez)"
   ]
  },
  {
   "cell_type": "code",
   "execution_count": null,
   "id": "bf96b206",
   "metadata": {},
   "outputs": [],
   "source": [
    "ind = []\n",
    "for i in range(X.index[-1][0]):\n",
    "    Xstart = X.loc[i].drop(columns = 'frez')\n",
    "    for j in (range((i + 1),X.index[-1][0])):\n",
    "        Xnext = X.loc[j].drop(columns = 'frez')\n",
    "        if (np.mean(np.abs(Xnext - Xstart), axis = 1) < 0.05).all():\n",
    "            ind.append([i,j])      "
   ]
  },
  {
   "cell_type": "code",
   "execution_count": null,
   "id": "54a84670",
   "metadata": {},
   "outputs": [],
   "source": [
    "ident = y.astype(int)"
   ]
  },
  {
   "cell_type": "code",
   "execution_count": null,
   "id": "d0b485e7",
   "metadata": {},
   "outputs": [],
   "source": [
    "ident['AxBx']= ident['Ax'] + ident['Bx']\n",
    "ident['ByCy']= ident['By'] + ident['Cy']\n",
    "ident['CxDx']= ident['Cx'] + ident['Dx']\n",
    "ident['DyAy']= ident['Dy'] + ident['Ay']\n",
    "ident = ident.drop(columns = ['Ax','Bx','By','Cy','Cx','Dx','Dy','Ay'])"
   ]
  },
  {
   "cell_type": "code",
   "execution_count": null,
   "id": "e97b51b0",
   "metadata": {},
   "outputs": [],
   "source": [
    "def in_all(x, **kwargs):\n",
    "    for key in kwargs.keys():\n",
    "        values = kwargs[key]\n",
    "        Lva = ['AxBx','ByCy','CxDx','DyAy']\n",
    "        if (x[key] != 0) and (x[values[0]] != 0 or x[values[1]] != 0):\n",
    "            if (x[values[0]] == 0):\n",
    "                val = values[1]\n",
    "            elif (x[values[1]] == 0):\n",
    "                val = values[0]\n",
    "            else:\n",
    "                print('Error')\n",
    "                break  \n",
    "            minval = np.floor(np.min([x[val],x[key]/2]))\n",
    "            x[key] = x[key] - 2*minval\n",
    "            if 'x' in val:\n",
    "                x['X'] += 2*minval\n",
    "                direct = 'y'       \n",
    "            elif 'y' in val:\n",
    "                x['Y'] += 2*minval\n",
    "                direct = 'x'\n",
    "            else:\n",
    "                print('Error')\n",
    "            x[val] = 0\n",
    "            search = key + direct\n",
    "            for i in Lva:\n",
    "                if search in i:\n",
    "                     x[i] = minval\n",
    "    return x    "
   ]
  },
  {
   "cell_type": "code",
   "execution_count": null,
   "id": "0745be77",
   "metadata": {},
   "outputs": [],
   "source": [
    "def end_step(x, **kwargs):\n",
    "    for key in kwargs.keys():\n",
    "        values = kwargs[key]\n",
    "        x[values] = x[values] + x[key] // 2 \n",
    "        x[key] = x[key] % 2 \n",
    "    return x"
   ]
  },
  {
   "cell_type": "code",
   "execution_count": null,
   "id": "a8fbab98",
   "metadata": {},
   "outputs": [],
   "source": [
    "def in_cont(x, **kwargs):\n",
    "    for key in kwargs.keys():\n",
    "        values = kwargs[key]\n",
    "        minval = np.min(x[values])\n",
    "        x[values] = x[values] - minval\n",
    "        if key in x:\n",
    "            x[key] = x[key] + len(values)*minval\n",
    "        else:\n",
    "            x[key] = len(values)*minval\n",
    "    return x"
   ]
  },
  {
   "cell_type": "code",
   "execution_count": null,
   "id": "2248a542",
   "metadata": {},
   "outputs": [],
   "source": [
    "def end_end_step(x):\n",
    "    alist = ['AQ','AL','BQ','BL','CQ','CL','DQ','DL']\n",
    "    ac = []\n",
    "    bd = []\n",
    "    for a in alist:\n",
    "        if x[a] != 0:\n",
    "            if ('A' in a) or ('C' in a):\n",
    "                ac.append(a)\n",
    "            elif('B' in a) or ('D' in a):\n",
    "                bd.append(a)\n",
    "    if (len(ac) > 0):\n",
    "        con = x['CQ'] + x['CL']\n",
    "        x['C'] = x['C'] + con*2\n",
    "        if ((x['AQ'])!= 0) or ((x['CL'])!= 0):\n",
    "            x['CQ'] = x['CL'] = 0\n",
    "            sa = 'Q' \n",
    "            x['L'] =  x['L'] + con*2\n",
    "            x['AQ'] = x['AQ'] + con\n",
    "        elif ((x['AL'])!= 0) or ((x['CQ'])!= 0):\n",
    "            x['CQ'] = x['CL'] = 0\n",
    "            sa = 'L'\n",
    "            x['Q'] = x['Q'] + con*2\n",
    "            x['AL'] = x['AL'] + con\n",
    "    elif (len(ac) == 0):\n",
    "        sa = ''\n",
    "    if (len(bd) > 0):\n",
    "        if ('D' + sa) in bd:\n",
    "            con = x['DQ'] + x['DL']\n",
    "            x['D'] = x['D'] + con*2\n",
    "            if ((x['BQ'])!= 0) or ((x['DL'])!= 0):\n",
    "                x['DQ'] = x['DL'] = 0\n",
    "                x['Q'] =  x['Q'] + con*2\n",
    "                x['BQ'] = x['BQ'] + con \n",
    "            elif ((x['BL'])!= 0) or ((x['DQ'])!= 0):\n",
    "                x['DQ'] = x['DL'] = 0\n",
    "                x['L'] = x['L'] + con*2\n",
    "                x['BL'] = x['BL'] + con \n",
    "        elif ('B' + sa) in bd:\n",
    "            con = x['BQ'] + x['BL']\n",
    "            x['B'] = x['B'] + con*2\n",
    "            if ((x['DQ'])!= 0) or ((x['BL'])!= 0):\n",
    "                x['BQ'] = x['BL'] = 0\n",
    "                x['Q'] =  x['Q'] + con*2\n",
    "                x['DQ'] = x['DQ'] + con \n",
    "            elif ((x['DL'])!= 0) or ((x['BQ'])!= 0):\n",
    "                x['BQ'] = x['BL'] = 0\n",
    "                x['L'] =  x['L'] + con*2\n",
    "                x['DL'] = x['DL'] + con          \n",
    "    return x    "
   ]
  },
  {
   "cell_type": "code",
   "execution_count": null,
   "id": "97a5025a",
   "metadata": {},
   "outputs": [],
   "source": [
    "def in_XY(x, **kwargs):\n",
    "    for key in kwargs.keys():\n",
    "        if x[key] != 0:\n",
    "            values = kwargs[key]\n",
    "            var = x[key]/4\n",
    "            x[values[0]] = x[values[0]] + 2*var\n",
    "            x[values[1]] = x[values[1]] + var\n",
    "            x[values[2]] = x[values[2]] + var\n",
    "            x[key] = 0\n",
    "    return x    "
   ]
  },
  {
   "cell_type": "code",
   "execution_count": null,
   "id": "933fb03d",
   "metadata": {},
   "outputs": [],
   "source": [
    "pairs = {'AxBx':['Ax','Bx'], 'ByCy':['By','Cy'], 'CxDx':['Cx','Dx'], 'DyAy':['Dy','Ay']}\n",
    "direction = {'X': ['AxBx','CxDx'],'Y': ['ByCy','DyAy'],'Q':['AQ','BL','CQ','DL'],'L':['AL','BQ','CL','DQ']}\n",
    "massXY = {'A': ['AxBx','DyAy'],'B': ['AxBx','ByCy'],'C': ['CxDx','ByCy'], 'D': ['CxDx','DyAy']}\n",
    "massQL = {'A': ['AQ','AL'],'B': ['BQ','BL'], 'C': ['CQ','CL'], 'D': ['DQ','DL']}\n",
    "delXY = {'del': ['X','Y']}\n",
    "delQL = {'del': ['Q','L']}\n",
    "delAC = {'del': ['A','C']}\n",
    "delBD = {'del': ['B','D']}\n",
    "contM = {'AB': ['A','B'],'BC': ['B','C'],'CD': ['C','D'],'DA': ['D','A'] }\n",
    "contM1 = {'AB': ['AxBx','DyAy','ByCy'],'BC': ['ByCy','AxBx','CxDx'],\n",
    "         'CD': ['CxDx','ByCy','DyAy'],'DA': ['DyAy','CxDx','AxBx'] }\n",
    "allM = {'A':['ByCy','CxDx'],'B':['CxDx','DyAy'],'C':['AxBx','DyAy'],'D':['AxBx','ByCy']}\n",
    "end1 = {'Q':['AQ','CQ'],'L':['BL','DL']}\n",
    "end2 = {'Q':['BQ','DQ'],'L':['AL','CL']}\n",
    "end3 = {'A':['AQ','AL'],'B':['BQ','BL'],'C':['CQ','CL'],'D':['DQ','DL']}"
   ]
  },
  {
   "cell_type": "code",
   "execution_count": null,
   "id": "7a1452be",
   "metadata": {},
   "outputs": [],
   "source": [
    "ident = ident.apply(in_cont, **direction, axis = 1)\n",
    "ident = ident.apply(in_cont, **massXY, axis = 1)\n",
    "ident = ident.apply(in_cont, **massQL, axis = 1)\n",
    "ident = ident.apply(in_cont, **delXY, axis = 1)\n",
    "ident = ident.apply(in_cont, **delQL, axis = 1)\n",
    "ident = ident.apply(in_cont, **delAC, axis = 1)\n",
    "ident = ident.apply(in_cont, **delBD, axis = 1)\n",
    "ident = ident.drop(columns = ['del'])\n",
    "ident = ident.apply(in_cont, **contM, axis = 1)\n",
    "ident = ident.apply(in_XY, **contM1, axis = 1)\n",
    "ident = ident.drop(columns = ['AB','BC','CD','DA'])\n",
    "ident = ident.apply(in_cont, **direction, axis = 1)\n",
    "ident = ident.apply(in_cont, **delXY, axis = 1)\n",
    "ident = ident.drop(columns = ['del'])\n",
    "ident = ident.apply(in_all, **allM, axis = 1)\n",
    "ident = ident.apply(in_cont, **delXY, axis = 1)\n",
    "ident = ident.drop(columns = ['del'])\n",
    "ident = ident.apply(end_step, **end3, axis = 1)\n",
    "ident = ident.apply(in_cont, **end1, axis = 1)\n",
    "ident = ident.apply(in_cont, **end2, axis = 1)\n",
    "ident = ident.apply(in_cont, **massQL, axis = 1)\n",
    "ident = ident.apply(end_end_step, axis = 1)"
   ]
  },
  {
   "cell_type": "code",
   "execution_count": null,
   "id": "e3c3c8be",
   "metadata": {},
   "outputs": [],
   "source": [
    "ident = ident.apply(in_all, **allM, axis = 1)"
   ]
  },
  {
   "cell_type": "code",
   "execution_count": null,
   "id": "51032985",
   "metadata": {},
   "outputs": [],
   "source": [
    "np.sum(ident,axis = 1)"
   ]
  },
  {
   "cell_type": "code",
   "execution_count": null,
   "id": "e0555a82",
   "metadata": {},
   "outputs": [],
   "source": [
    "[[74, 309], [141, 219], [170, 347], [293, 450]]"
   ]
  }
 ],
 "metadata": {
  "kernelspec": {
   "display_name": "Python 3",
   "language": "python",
   "name": "python3"
  },
  "language_info": {
   "codemirror_mode": {
    "name": "ipython",
    "version": 3
   },
   "file_extension": ".py",
   "mimetype": "text/x-python",
   "name": "python",
   "nbconvert_exporter": "python",
   "pygments_lexer": "ipython3",
   "version": "3.8.5"
  }
 },
 "nbformat": 4,
 "nbformat_minor": 5
}
